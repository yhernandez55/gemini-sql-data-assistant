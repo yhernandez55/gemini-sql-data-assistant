{
 "cells": [
  {
   "cell_type": "markdown",
   "metadata": {},
   "source": [
    "# 1. 🔧 Setup: Libraries, API Key, and Imports"
   ]
  },
  {
   "cell_type": "code",
   "execution_count": 1,
   "metadata": {},
   "outputs": [],
   "source": [
    "# Core Libraries\n",
    "import pandas as pd\n",
    "import sqlite3\n",
    "import io\n",
    "import warnings"
   ]
  },
  {
   "cell_type": "code",
   "execution_count": 2,
   "metadata": {},
   "outputs": [],
   "source": [
    "# Widgets for file upload\n",
    "from IPython.display import display\n",
    "import ipywidgets as widgets"
   ]
  },
  {
   "cell_type": "code",
   "execution_count": 3,
   "metadata": {},
   "outputs": [
    {
     "name": "stdout",
     "output_type": "stream",
     "text": [
      "Requirement already satisfied: google.api_core in /Library/Frameworks/Python.framework/Versions/3.12/lib/python3.12/site-packages (2.24.2)\n",
      "Requirement already satisfied: googleapis-common-protos<2.0.0,>=1.56.2 in /Library/Frameworks/Python.framework/Versions/3.12/lib/python3.12/site-packages (from google.api_core) (1.70.0)\n",
      "Requirement already satisfied: protobuf!=3.20.0,!=3.20.1,!=4.21.0,!=4.21.1,!=4.21.2,!=4.21.3,!=4.21.4,!=4.21.5,<7.0.0,>=3.19.5 in /Library/Frameworks/Python.framework/Versions/3.12/lib/python3.12/site-packages (from google.api_core) (5.29.1)\n",
      "Requirement already satisfied: proto-plus<2.0.0,>=1.22.3 in /Library/Frameworks/Python.framework/Versions/3.12/lib/python3.12/site-packages (from google.api_core) (1.26.1)\n",
      "Requirement already satisfied: google-auth<3.0.0,>=2.14.1 in /Library/Frameworks/Python.framework/Versions/3.12/lib/python3.12/site-packages (from google.api_core) (2.39.0)\n",
      "Requirement already satisfied: requests<3.0.0,>=2.18.0 in /Library/Frameworks/Python.framework/Versions/3.12/lib/python3.12/site-packages (from google.api_core) (2.32.3)\n",
      "Requirement already satisfied: cachetools<6.0,>=2.0.0 in /Library/Frameworks/Python.framework/Versions/3.12/lib/python3.12/site-packages (from google-auth<3.0.0,>=2.14.1->google.api_core) (5.5.0)\n",
      "Requirement already satisfied: pyasn1-modules>=0.2.1 in /Library/Frameworks/Python.framework/Versions/3.12/lib/python3.12/site-packages (from google-auth<3.0.0,>=2.14.1->google.api_core) (0.4.2)\n",
      "Requirement already satisfied: rsa<5,>=3.1.4 in /Library/Frameworks/Python.framework/Versions/3.12/lib/python3.12/site-packages (from google-auth<3.0.0,>=2.14.1->google.api_core) (4.9.1)\n",
      "Requirement already satisfied: charset-normalizer<4,>=2 in /Library/Frameworks/Python.framework/Versions/3.12/lib/python3.12/site-packages (from requests<3.0.0,>=2.18.0->google.api_core) (3.4.0)\n",
      "Requirement already satisfied: idna<4,>=2.5 in /Library/Frameworks/Python.framework/Versions/3.12/lib/python3.12/site-packages (from requests<3.0.0,>=2.18.0->google.api_core) (3.10)\n",
      "Requirement already satisfied: urllib3<3,>=1.21.1 in /Library/Frameworks/Python.framework/Versions/3.12/lib/python3.12/site-packages (from requests<3.0.0,>=2.18.0->google.api_core) (2.2.3)\n",
      "Requirement already satisfied: certifi>=2017.4.17 in /Library/Frameworks/Python.framework/Versions/3.12/lib/python3.12/site-packages (from requests<3.0.0,>=2.18.0->google.api_core) (2024.8.30)\n",
      "Requirement already satisfied: pyasn1<0.7.0,>=0.6.1 in /Library/Frameworks/Python.framework/Versions/3.12/lib/python3.12/site-packages (from pyasn1-modules>=0.2.1->google-auth<3.0.0,>=2.14.1->google.api_core) (0.6.1)\n",
      "\n",
      "\u001b[1m[\u001b[0m\u001b[34;49mnotice\u001b[0m\u001b[1;39;49m]\u001b[0m\u001b[39;49m A new release of pip is available: \u001b[0m\u001b[31;49m24.0\u001b[0m\u001b[39;49m -> \u001b[0m\u001b[32;49m25.0.1\u001b[0m\n",
      "\u001b[1m[\u001b[0m\u001b[34;49mnotice\u001b[0m\u001b[1;39;49m]\u001b[0m\u001b[39;49m To update, run: \u001b[0m\u001b[32;49mpip3 install --upgrade pip\u001b[0m\n",
      "Note: you may need to restart the kernel to use updated packages.\n"
     ]
    }
   ],
   "source": [
    "# Gemini API Setup\n",
    "from google import genai\n",
    "from google.genai import types\n",
    "%pip install google.api_core\n",
    "from google.api_core import retry\n",
    "from google.api_core.exceptions import GoogleAPIError\n",
    "from google.generativeai.types import GenerationConfig"
   ]
  },
  {
   "cell_type": "code",
   "execution_count": 4,
   "metadata": {},
   "outputs": [
    {
     "name": "stdout",
     "output_type": "stream",
     "text": [
      "Requirement already satisfied: google.generativeai in /Library/Frameworks/Python.framework/Versions/3.12/lib/python3.12/site-packages (0.8.5)\n",
      "Requirement already satisfied: google-ai-generativelanguage==0.6.15 in /Library/Frameworks/Python.framework/Versions/3.12/lib/python3.12/site-packages (from google.generativeai) (0.6.15)\n",
      "Requirement already satisfied: google-api-core in /Library/Frameworks/Python.framework/Versions/3.12/lib/python3.12/site-packages (from google.generativeai) (2.24.2)\n",
      "Requirement already satisfied: google-api-python-client in /Library/Frameworks/Python.framework/Versions/3.12/lib/python3.12/site-packages (from google.generativeai) (2.167.0)\n",
      "Requirement already satisfied: google-auth>=2.15.0 in /Library/Frameworks/Python.framework/Versions/3.12/lib/python3.12/site-packages (from google.generativeai) (2.39.0)\n",
      "Requirement already satisfied: protobuf in /Library/Frameworks/Python.framework/Versions/3.12/lib/python3.12/site-packages (from google.generativeai) (5.29.1)\n",
      "Requirement already satisfied: pydantic in /Library/Frameworks/Python.framework/Versions/3.12/lib/python3.12/site-packages (from google.generativeai) (2.11.3)\n",
      "Requirement already satisfied: tqdm in /Library/Frameworks/Python.framework/Versions/3.12/lib/python3.12/site-packages (from google.generativeai) (4.67.1)\n",
      "Requirement already satisfied: typing-extensions in /Library/Frameworks/Python.framework/Versions/3.12/lib/python3.12/site-packages (from google.generativeai) (4.12.2)\n",
      "Requirement already satisfied: proto-plus<2.0.0dev,>=1.22.3 in /Library/Frameworks/Python.framework/Versions/3.12/lib/python3.12/site-packages (from google-ai-generativelanguage==0.6.15->google.generativeai) (1.26.1)\n",
      "Requirement already satisfied: googleapis-common-protos<2.0.0,>=1.56.2 in /Library/Frameworks/Python.framework/Versions/3.12/lib/python3.12/site-packages (from google-api-core->google.generativeai) (1.70.0)\n",
      "Requirement already satisfied: requests<3.0.0,>=2.18.0 in /Library/Frameworks/Python.framework/Versions/3.12/lib/python3.12/site-packages (from google-api-core->google.generativeai) (2.32.3)\n",
      "Requirement already satisfied: cachetools<6.0,>=2.0.0 in /Library/Frameworks/Python.framework/Versions/3.12/lib/python3.12/site-packages (from google-auth>=2.15.0->google.generativeai) (5.5.0)\n",
      "Requirement already satisfied: pyasn1-modules>=0.2.1 in /Library/Frameworks/Python.framework/Versions/3.12/lib/python3.12/site-packages (from google-auth>=2.15.0->google.generativeai) (0.4.2)\n",
      "Requirement already satisfied: rsa<5,>=3.1.4 in /Library/Frameworks/Python.framework/Versions/3.12/lib/python3.12/site-packages (from google-auth>=2.15.0->google.generativeai) (4.9.1)\n",
      "Requirement already satisfied: httplib2<1.0.0,>=0.19.0 in /Library/Frameworks/Python.framework/Versions/3.12/lib/python3.12/site-packages (from google-api-python-client->google.generativeai) (0.22.0)\n",
      "Requirement already satisfied: google-auth-httplib2<1.0.0,>=0.2.0 in /Library/Frameworks/Python.framework/Versions/3.12/lib/python3.12/site-packages (from google-api-python-client->google.generativeai) (0.2.0)\n",
      "Requirement already satisfied: uritemplate<5,>=3.0.1 in /Library/Frameworks/Python.framework/Versions/3.12/lib/python3.12/site-packages (from google-api-python-client->google.generativeai) (4.1.1)\n",
      "Requirement already satisfied: annotated-types>=0.6.0 in /Library/Frameworks/Python.framework/Versions/3.12/lib/python3.12/site-packages (from pydantic->google.generativeai) (0.7.0)\n",
      "Requirement already satisfied: pydantic-core==2.33.1 in /Library/Frameworks/Python.framework/Versions/3.12/lib/python3.12/site-packages (from pydantic->google.generativeai) (2.33.1)\n",
      "Requirement already satisfied: typing-inspection>=0.4.0 in /Library/Frameworks/Python.framework/Versions/3.12/lib/python3.12/site-packages (from pydantic->google.generativeai) (0.4.0)\n",
      "Requirement already satisfied: grpcio<2.0dev,>=1.33.2 in /Library/Frameworks/Python.framework/Versions/3.12/lib/python3.12/site-packages (from google-api-core[grpc]!=2.0.*,!=2.1.*,!=2.10.*,!=2.2.*,!=2.3.*,!=2.4.*,!=2.5.*,!=2.6.*,!=2.7.*,!=2.8.*,!=2.9.*,<3.0.0dev,>=1.34.1->google-ai-generativelanguage==0.6.15->google.generativeai) (1.71.0)\n",
      "Requirement already satisfied: grpcio-status<2.0.dev0,>=1.33.2 in /Library/Frameworks/Python.framework/Versions/3.12/lib/python3.12/site-packages (from google-api-core[grpc]!=2.0.*,!=2.1.*,!=2.10.*,!=2.2.*,!=2.3.*,!=2.4.*,!=2.5.*,!=2.6.*,!=2.7.*,!=2.8.*,!=2.9.*,<3.0.0dev,>=1.34.1->google-ai-generativelanguage==0.6.15->google.generativeai) (1.71.0)\n",
      "Requirement already satisfied: pyparsing!=3.0.0,!=3.0.1,!=3.0.2,!=3.0.3,<4,>=2.4.2 in /Library/Frameworks/Python.framework/Versions/3.12/lib/python3.12/site-packages (from httplib2<1.0.0,>=0.19.0->google-api-python-client->google.generativeai) (3.2.1)\n",
      "Requirement already satisfied: pyasn1<0.7.0,>=0.6.1 in /Library/Frameworks/Python.framework/Versions/3.12/lib/python3.12/site-packages (from pyasn1-modules>=0.2.1->google-auth>=2.15.0->google.generativeai) (0.6.1)\n",
      "Requirement already satisfied: charset-normalizer<4,>=2 in /Library/Frameworks/Python.framework/Versions/3.12/lib/python3.12/site-packages (from requests<3.0.0,>=2.18.0->google-api-core->google.generativeai) (3.4.0)\n",
      "Requirement already satisfied: idna<4,>=2.5 in /Library/Frameworks/Python.framework/Versions/3.12/lib/python3.12/site-packages (from requests<3.0.0,>=2.18.0->google-api-core->google.generativeai) (3.10)\n",
      "Requirement already satisfied: urllib3<3,>=1.21.1 in /Library/Frameworks/Python.framework/Versions/3.12/lib/python3.12/site-packages (from requests<3.0.0,>=2.18.0->google-api-core->google.generativeai) (2.2.3)\n",
      "Requirement already satisfied: certifi>=2017.4.17 in /Library/Frameworks/Python.framework/Versions/3.12/lib/python3.12/site-packages (from requests<3.0.0,>=2.18.0->google-api-core->google.generativeai) (2024.8.30)\n",
      "\n",
      "\u001b[1m[\u001b[0m\u001b[34;49mnotice\u001b[0m\u001b[1;39;49m]\u001b[0m\u001b[39;49m A new release of pip is available: \u001b[0m\u001b[31;49m24.0\u001b[0m\u001b[39;49m -> \u001b[0m\u001b[32;49m25.0.1\u001b[0m\n",
      "\u001b[1m[\u001b[0m\u001b[34;49mnotice\u001b[0m\u001b[1;39;49m]\u001b[0m\u001b[39;49m To update, run: \u001b[0m\u001b[32;49mpip3 install --upgrade pip\u001b[0m\n",
      "Note: you may need to restart the kernel to use updated packages.\n"
     ]
    }
   ],
   "source": [
    "# 🔧 Setup: Load API Key + Gemini Configuration\n",
    "import os\n",
    "from dotenv import load_dotenv\n",
    "%pip install google.generativeai\n",
    "import google.generativeai as genai\n",
    "\n",
    "# Load your .env file\n",
    "load_dotenv()\n",
    "\n",
    "# Grab the key\n",
    "GOOGLE_API_KEY = os.getenv(\"GOOGLE_API_KEY\")\n",
    "\n",
    "# Configure Gemini\n",
    "genai.configure(api_key=GOOGLE_API_KEY)\n"
   ]
  },
  {
   "cell_type": "code",
   "execution_count": 5,
   "metadata": {},
   "outputs": [],
   "source": [
    "from google.api_core import retry\n",
    "\n",
    "# Retry handler for transient API errors\n",
    "is_retriable = lambda e: (\n",
    "    isinstance(e, genai.errors.APIError) and e.code in {429, 503}\n",
    ")\n",
    "\n",
    "genai.GenerativeModel.generate_content = retry.Retry(\n",
    "    predicate=is_retriable\n",
    ")(genai.GenerativeModel.generate_content)\n"
   ]
  },
  {
   "cell_type": "markdown",
   "metadata": {},
   "source": [
    "# 2. 📂 Load a Dataset (Kaggle OR Upload your own CSV)"
   ]
  },
  {
   "cell_type": "markdown",
   "metadata": {},
   "source": [
    "## Loading kaggle data"
   ]
  },
  {
   "cell_type": "code",
   "execution_count": 6,
   "metadata": {},
   "outputs": [
    {
     "data": {
      "text/html": [
       "<div>\n",
       "<style scoped>\n",
       "    .dataframe tbody tr th:only-of-type {\n",
       "        vertical-align: middle;\n",
       "    }\n",
       "\n",
       "    .dataframe tbody tr th {\n",
       "        vertical-align: top;\n",
       "    }\n",
       "\n",
       "    .dataframe thead th {\n",
       "        text-align: right;\n",
       "    }\n",
       "</style>\n",
       "<table border=\"1\" class=\"dataframe\">\n",
       "  <thead>\n",
       "    <tr style=\"text-align: right;\">\n",
       "      <th></th>\n",
       "      <th>Order ID</th>\n",
       "      <th>Date</th>\n",
       "      <th>Product</th>\n",
       "      <th>Category</th>\n",
       "      <th>Price</th>\n",
       "      <th>Quantity</th>\n",
       "      <th>Total Sales</th>\n",
       "      <th>Customer Name</th>\n",
       "      <th>Customer Location</th>\n",
       "      <th>Payment Method</th>\n",
       "      <th>Status</th>\n",
       "    </tr>\n",
       "  </thead>\n",
       "  <tbody>\n",
       "    <tr>\n",
       "      <th>0</th>\n",
       "      <td>ORD0001</td>\n",
       "      <td>14-03-25</td>\n",
       "      <td>Running Shoes</td>\n",
       "      <td>Footwear</td>\n",
       "      <td>60</td>\n",
       "      <td>3</td>\n",
       "      <td>180</td>\n",
       "      <td>Emma Clark</td>\n",
       "      <td>New York</td>\n",
       "      <td>Debit Card</td>\n",
       "      <td>Cancelled</td>\n",
       "    </tr>\n",
       "    <tr>\n",
       "      <th>1</th>\n",
       "      <td>ORD0002</td>\n",
       "      <td>20-03-25</td>\n",
       "      <td>Headphones</td>\n",
       "      <td>Electronics</td>\n",
       "      <td>100</td>\n",
       "      <td>4</td>\n",
       "      <td>400</td>\n",
       "      <td>Emily Johnson</td>\n",
       "      <td>San Francisco</td>\n",
       "      <td>Debit Card</td>\n",
       "      <td>Pending</td>\n",
       "    </tr>\n",
       "    <tr>\n",
       "      <th>2</th>\n",
       "      <td>ORD0003</td>\n",
       "      <td>15-02-25</td>\n",
       "      <td>Running Shoes</td>\n",
       "      <td>Footwear</td>\n",
       "      <td>60</td>\n",
       "      <td>2</td>\n",
       "      <td>120</td>\n",
       "      <td>John Doe</td>\n",
       "      <td>Denver</td>\n",
       "      <td>Amazon Pay</td>\n",
       "      <td>Cancelled</td>\n",
       "    </tr>\n",
       "    <tr>\n",
       "      <th>3</th>\n",
       "      <td>ORD0004</td>\n",
       "      <td>19-02-25</td>\n",
       "      <td>Running Shoes</td>\n",
       "      <td>Footwear</td>\n",
       "      <td>60</td>\n",
       "      <td>3</td>\n",
       "      <td>180</td>\n",
       "      <td>Olivia Wilson</td>\n",
       "      <td>Dallas</td>\n",
       "      <td>Credit Card</td>\n",
       "      <td>Pending</td>\n",
       "    </tr>\n",
       "    <tr>\n",
       "      <th>4</th>\n",
       "      <td>ORD0005</td>\n",
       "      <td>10-03-25</td>\n",
       "      <td>Smartwatch</td>\n",
       "      <td>Electronics</td>\n",
       "      <td>150</td>\n",
       "      <td>3</td>\n",
       "      <td>450</td>\n",
       "      <td>Emma Clark</td>\n",
       "      <td>New York</td>\n",
       "      <td>Debit Card</td>\n",
       "      <td>Pending</td>\n",
       "    </tr>\n",
       "    <tr>\n",
       "      <th>...</th>\n",
       "      <td>...</td>\n",
       "      <td>...</td>\n",
       "      <td>...</td>\n",
       "      <td>...</td>\n",
       "      <td>...</td>\n",
       "      <td>...</td>\n",
       "      <td>...</td>\n",
       "      <td>...</td>\n",
       "      <td>...</td>\n",
       "      <td>...</td>\n",
       "      <td>...</td>\n",
       "    </tr>\n",
       "    <tr>\n",
       "      <th>245</th>\n",
       "      <td>ORD0246</td>\n",
       "      <td>17-03-25</td>\n",
       "      <td>T-Shirt</td>\n",
       "      <td>Clothing</td>\n",
       "      <td>20</td>\n",
       "      <td>2</td>\n",
       "      <td>40</td>\n",
       "      <td>Daniel Harris</td>\n",
       "      <td>Miami</td>\n",
       "      <td>Debit Card</td>\n",
       "      <td>Cancelled</td>\n",
       "    </tr>\n",
       "    <tr>\n",
       "      <th>246</th>\n",
       "      <td>ORD0247</td>\n",
       "      <td>30-03-25</td>\n",
       "      <td>Jeans</td>\n",
       "      <td>Clothing</td>\n",
       "      <td>40</td>\n",
       "      <td>1</td>\n",
       "      <td>40</td>\n",
       "      <td>Sophia Miller</td>\n",
       "      <td>Dallas</td>\n",
       "      <td>Debit Card</td>\n",
       "      <td>Cancelled</td>\n",
       "    </tr>\n",
       "    <tr>\n",
       "      <th>247</th>\n",
       "      <td>ORD0248</td>\n",
       "      <td>05-03-25</td>\n",
       "      <td>T-Shirt</td>\n",
       "      <td>Clothing</td>\n",
       "      <td>20</td>\n",
       "      <td>2</td>\n",
       "      <td>40</td>\n",
       "      <td>Chris White</td>\n",
       "      <td>Denver</td>\n",
       "      <td>Debit Card</td>\n",
       "      <td>Cancelled</td>\n",
       "    </tr>\n",
       "    <tr>\n",
       "      <th>248</th>\n",
       "      <td>ORD0249</td>\n",
       "      <td>08-03-25</td>\n",
       "      <td>Smartwatch</td>\n",
       "      <td>Electronics</td>\n",
       "      <td>150</td>\n",
       "      <td>3</td>\n",
       "      <td>450</td>\n",
       "      <td>Emily Johnson</td>\n",
       "      <td>New York</td>\n",
       "      <td>Debit Card</td>\n",
       "      <td>Cancelled</td>\n",
       "    </tr>\n",
       "    <tr>\n",
       "      <th>249</th>\n",
       "      <td>ORD0250</td>\n",
       "      <td>19-02-25</td>\n",
       "      <td>Smartphone</td>\n",
       "      <td>Electronics</td>\n",
       "      <td>500</td>\n",
       "      <td>4</td>\n",
       "      <td>2000</td>\n",
       "      <td>Emily Johnson</td>\n",
       "      <td>Seattle</td>\n",
       "      <td>Amazon Pay</td>\n",
       "      <td>Completed</td>\n",
       "    </tr>\n",
       "  </tbody>\n",
       "</table>\n",
       "<p>250 rows × 11 columns</p>\n",
       "</div>"
      ],
      "text/plain": [
       "    Order ID      Date        Product     Category  Price  Quantity  \\\n",
       "0    ORD0001  14-03-25  Running Shoes     Footwear     60         3   \n",
       "1    ORD0002  20-03-25     Headphones  Electronics    100         4   \n",
       "2    ORD0003  15-02-25  Running Shoes     Footwear     60         2   \n",
       "3    ORD0004  19-02-25  Running Shoes     Footwear     60         3   \n",
       "4    ORD0005  10-03-25     Smartwatch  Electronics    150         3   \n",
       "..       ...       ...            ...          ...    ...       ...   \n",
       "245  ORD0246  17-03-25        T-Shirt     Clothing     20         2   \n",
       "246  ORD0247  30-03-25          Jeans     Clothing     40         1   \n",
       "247  ORD0248  05-03-25        T-Shirt     Clothing     20         2   \n",
       "248  ORD0249  08-03-25     Smartwatch  Electronics    150         3   \n",
       "249  ORD0250  19-02-25     Smartphone  Electronics    500         4   \n",
       "\n",
       "     Total Sales  Customer Name Customer Location Payment Method     Status  \n",
       "0            180     Emma Clark          New York     Debit Card  Cancelled  \n",
       "1            400  Emily Johnson     San Francisco     Debit Card    Pending  \n",
       "2            120       John Doe            Denver     Amazon Pay  Cancelled  \n",
       "3            180  Olivia Wilson            Dallas    Credit Card    Pending  \n",
       "4            450     Emma Clark          New York     Debit Card    Pending  \n",
       "..           ...            ...               ...            ...        ...  \n",
       "245           40  Daniel Harris             Miami     Debit Card  Cancelled  \n",
       "246           40  Sophia Miller            Dallas     Debit Card  Cancelled  \n",
       "247           40    Chris White            Denver     Debit Card  Cancelled  \n",
       "248          450  Emily Johnson          New York     Debit Card  Cancelled  \n",
       "249         2000  Emily Johnson           Seattle     Amazon Pay  Completed  \n",
       "\n",
       "[250 rows x 11 columns]"
      ]
     },
     "execution_count": 6,
     "metadata": {},
     "output_type": "execute_result"
    }
   ],
   "source": [
    "# Data Set: \n",
    "data = pd.read_csv('amazon_sales_data 2025.csv')\n",
    "data"
   ]
  },
  {
   "cell_type": "markdown",
   "metadata": {},
   "source": [
    "## Loading input data"
   ]
  },
  {
   "cell_type": "markdown",
   "metadata": {},
   "source": [
    "> 👉 **Tip**: You can upload your own `.csv` file using the widget below. If you skip this step, the notebook will use a default Amazon Sales dataset.\n"
   ]
  },
  {
   "cell_type": "code",
   "execution_count": 8,
   "metadata": {},
   "outputs": [
    {
     "data": {
      "application/vnd.jupyter.widget-view+json": {
       "model_id": "7a1d2dc26c7a42e1b6fe8c386003ea66",
       "version_major": 2,
       "version_minor": 0
      },
      "text/plain": [
       "FileUpload(value=(), accept='.csv', description='Upload')"
      ]
     },
     "metadata": {},
     "output_type": "display_data"
    },
    {
     "data": {
      "application/vnd.jupyter.widget-view+json": {
       "model_id": "377a9b548ec34b40a0b7beba0ede4f38",
       "version_major": 2,
       "version_minor": 0
      },
      "text/plain": [
       "FileUpload(value=(), accept='.csv', description='Upload')"
      ]
     },
     "metadata": {},
     "output_type": "display_data"
    },
    {
     "name": "stdout",
     "output_type": "stream",
     "text": [
      "📤 Please upload your file using the widget above, then run the next cell.\n"
     ]
    }
   ],
   "source": [
    "# Upload CSV widget\n",
    "upload = widgets.FileUpload(accept='.csv', multiple=False)\n",
    "display(upload)\n",
    "\n",
    "# Ask user if they want to upload a CSV\n",
    "use_upload = input(\"📤 Do you want to upload your own CSV file? (y/n): \").lower()\n",
    "\n",
    "if use_upload == 'y':\n",
    "    # Show the upload widget\n",
    "    upload = widgets.FileUpload(accept='.csv', multiple=False)\n",
    "    display(upload)\n",
    "    print(\"📤 Please upload your file using the widget above, then run the next cell.\")\n",
    "else:\n",
    "    print(\"📂 Skipping upload. We'll use the default dataset instead.\")\n"
   ]
  },
  {
   "cell_type": "code",
   "execution_count": 13,
   "metadata": {},
   "outputs": [
    {
     "data": {
      "text/html": [
       "<div>\n",
       "<style scoped>\n",
       "    .dataframe tbody tr th:only-of-type {\n",
       "        vertical-align: middle;\n",
       "    }\n",
       "\n",
       "    .dataframe tbody tr th {\n",
       "        vertical-align: top;\n",
       "    }\n",
       "\n",
       "    .dataframe thead th {\n",
       "        text-align: right;\n",
       "    }\n",
       "</style>\n",
       "<table border=\"1\" class=\"dataframe\">\n",
       "  <thead>\n",
       "    <tr style=\"text-align: right;\">\n",
       "      <th></th>\n",
       "      <th>Unnamed:_0</th>\n",
       "      <th>carat</th>\n",
       "      <th>cut</th>\n",
       "      <th>color</th>\n",
       "      <th>clarity</th>\n",
       "      <th>depth</th>\n",
       "      <th>table</th>\n",
       "      <th>price</th>\n",
       "      <th>x</th>\n",
       "      <th>y</th>\n",
       "      <th>z</th>\n",
       "    </tr>\n",
       "  </thead>\n",
       "  <tbody>\n",
       "    <tr>\n",
       "      <th>0</th>\n",
       "      <td>1</td>\n",
       "      <td>0.23</td>\n",
       "      <td>Ideal</td>\n",
       "      <td>E</td>\n",
       "      <td>SI2</td>\n",
       "      <td>61.5</td>\n",
       "      <td>55.0</td>\n",
       "      <td>326</td>\n",
       "      <td>3.95</td>\n",
       "      <td>3.98</td>\n",
       "      <td>2.43</td>\n",
       "    </tr>\n",
       "    <tr>\n",
       "      <th>1</th>\n",
       "      <td>2</td>\n",
       "      <td>0.21</td>\n",
       "      <td>Premium</td>\n",
       "      <td>E</td>\n",
       "      <td>SI1</td>\n",
       "      <td>59.8</td>\n",
       "      <td>61.0</td>\n",
       "      <td>326</td>\n",
       "      <td>3.89</td>\n",
       "      <td>3.84</td>\n",
       "      <td>2.31</td>\n",
       "    </tr>\n",
       "    <tr>\n",
       "      <th>2</th>\n",
       "      <td>3</td>\n",
       "      <td>0.23</td>\n",
       "      <td>Good</td>\n",
       "      <td>E</td>\n",
       "      <td>VS1</td>\n",
       "      <td>56.9</td>\n",
       "      <td>65.0</td>\n",
       "      <td>327</td>\n",
       "      <td>4.05</td>\n",
       "      <td>4.07</td>\n",
       "      <td>2.31</td>\n",
       "    </tr>\n",
       "    <tr>\n",
       "      <th>3</th>\n",
       "      <td>4</td>\n",
       "      <td>0.29</td>\n",
       "      <td>Premium</td>\n",
       "      <td>I</td>\n",
       "      <td>VS2</td>\n",
       "      <td>62.4</td>\n",
       "      <td>58.0</td>\n",
       "      <td>334</td>\n",
       "      <td>4.20</td>\n",
       "      <td>4.23</td>\n",
       "      <td>2.63</td>\n",
       "    </tr>\n",
       "    <tr>\n",
       "      <th>4</th>\n",
       "      <td>5</td>\n",
       "      <td>0.31</td>\n",
       "      <td>Good</td>\n",
       "      <td>J</td>\n",
       "      <td>SI2</td>\n",
       "      <td>63.3</td>\n",
       "      <td>58.0</td>\n",
       "      <td>335</td>\n",
       "      <td>4.34</td>\n",
       "      <td>4.35</td>\n",
       "      <td>2.75</td>\n",
       "    </tr>\n",
       "  </tbody>\n",
       "</table>\n",
       "</div>"
      ],
      "text/plain": [
       "   Unnamed:_0  carat      cut color clarity  depth  table  price     x     y  \\\n",
       "0           1   0.23    Ideal     E     SI2   61.5   55.0    326  3.95  3.98   \n",
       "1           2   0.21  Premium     E     SI1   59.8   61.0    326  3.89  3.84   \n",
       "2           3   0.23     Good     E     VS1   56.9   65.0    327  4.05  4.07   \n",
       "3           4   0.29  Premium     I     VS2   62.4   58.0    334  4.20  4.23   \n",
       "4           5   0.31     Good     J     SI2   63.3   58.0    335  4.34  4.35   \n",
       "\n",
       "      z  \n",
       "0  2.43  \n",
       "1  2.31  \n",
       "2  2.31  \n",
       "3  2.63  \n",
       "4  2.75  "
      ]
     },
     "execution_count": 13,
     "metadata": {},
     "output_type": "execute_result"
    }
   ],
   "source": [
    "def handle_upload():\n",
    "    if 'upload' in globals() and upload.value:\n",
    "        for file_info in upload.value:\n",
    "            content = file_info['content']  # Access the content attribute of the file info\n",
    "            df = pd.read_csv(io.BytesIO(content))\n",
    "            df.columns = [col.strip().replace(\" \", \"_\") for col in df.columns]\n",
    "            return df\n",
    "    return None  # No file uploaded\n",
    "\n",
    "df = handle_upload()\n",
    "\n",
    "if df is None:\n",
    "    print(\"⚠️ No user file uploaded — using default Kaggle dataset instead.\")\n",
    "    df = pd.read_csv('amazon_sales_data 2025.csv')\n",
    "    df.columns = [col.strip().replace(\" \", \"_\") for col in df.columns]\n",
    "\n",
    "df.head()\n"
   ]
  },
  {
   "cell_type": "markdown",
   "metadata": {},
   "source": [
    "# 3. 🧠 Ask AI: What Should We Explore?"
   ]
  },
  {
   "cell_type": "markdown",
   "metadata": {},
   "source": [
    "## prompt for the kaggle data set"
   ]
  },
  {
   "cell_type": "code",
   "execution_count": 14,
   "metadata": {},
   "outputs": [
    {
     "name": "stdout",
     "output_type": "stream",
     "text": [
      "Okay, based on the provided dataset columns, here are some useful questions to explore during further data analysis, categorized for clarity:\n",
      "\n",
      "**Sales & Revenue Analysis:**\n",
      "\n",
      "*   **What are the overall total sales?** (Simple, but foundational)\n",
      "*   **What are the average sales per order?**\n",
      "*   **Which product category generates the most revenue?**\n",
      "*   **Which products are the top sellers (by quantity and revenue)?**\n",
      "*   **What is the distribution of order quantities?  Are most orders for single items, or are customers buying multiple items?**\n",
      "*   **What is the average price per product category?**\n",
      "*   **How does the average order value vary by payment method?**\n",
      "*   **How does the sales performance change over time? (Requires more data points, but essential for understanding trends).**\n",
      "*   **What is the distribution of 'Total Sales'?**\n",
      "\n",
      "**Customer Behavior & Segmentation:**\n",
      "\n",
      "*\n"
     ]
    }
   ],
   "source": [
    "# Create the model\n",
    "model = genai.GenerativeModel(\"gemini-2.0-flash\")\n",
    "\n",
    "## Prompt example\n",
    "sample = data.head(5).to_markdown()\n",
    "prompt = f\"\"\"\n",
    "Here is a few rows of our dataset:\n",
    "\n",
    "{sample}\n",
    "\n",
    "Based on this dataset, what are some useful questions we should ask during further data analysis?\n",
    "\"\"\"\n",
    "\n",
    "# Config\n",
    "short_config = GenerationConfig(max_output_tokens=200)\n",
    "\n",
    "# Generate\n",
    "response = model.generate_content(prompt, generation_config=short_config)\n",
    "print(response.text)\n"
   ]
  },
  {
   "cell_type": "markdown",
   "metadata": {},
   "source": [
    "## Prompt for the input data"
   ]
  },
  {
   "cell_type": "code",
   "execution_count": 15,
   "metadata": {},
   "outputs": [
    {
     "name": "stdout",
     "output_type": "stream",
     "text": [
      "Okay, based on the provided dataset, here are some useful questions to ask during further data analysis, categorized for clarity:\n",
      "\n",
      "**I. Sales Performance & Trends:**\n",
      "\n",
      "*   **Overall Sales:**\n",
      "    *   What is the total revenue generated?\n",
      "    *   What is the average order value?\n",
      "    *   What are the minimum and maximum sales amounts?\n",
      "    *   What are the total units sold?\n",
      "*   **Temporal Analysis:**\n",
      "    *   What are the sales trends over time (daily, weekly, monthly)?  Can we identify any seasonality?\n",
      "    *   Are there any peak sales periods?\n",
      "    *   How does sales performance vary across different months/quarters of the year?\n",
      "*   **Product Analysis:**\n",
      "    *   Which products are the top sellers?\n",
      "    *   Which products are the least popular?\n",
      "    *   What is the average quantity sold per product?\n",
      "    *   What are the sales trends for each\n"
     ]
    }
   ],
   "source": [
    "# Prompt:\n",
    "sample_1 = df.head(5).to_markdown()\n",
    "\n",
    "prompt_1 = f\"\"\"\n",
    "Here is a few rows of our dataset:\n",
    "\n",
    "{sample_1}\n",
    "\n",
    "Based on this dataset, what are some useful questions we should ask during further data analysis?\n",
    "\"\"\"\n",
    "\n",
    "# Config\n",
    "short_config = GenerationConfig(max_output_tokens=200)\n",
    "\n",
    "# Generate\n",
    "response = model.generate_content(prompt, generation_config=short_config)\n",
    "print(response.text)\n"
   ]
  },
  {
   "cell_type": "markdown",
   "metadata": {},
   "source": [
    "# 4. 🧾 Generate & Run SQL Queries from Natural Language"
   ]
  },
  {
   "cell_type": "code",
   "execution_count": 16,
   "metadata": {},
   "outputs": [],
   "source": [
    "# description function for both kaggle and user inputed csv:\n",
    "def describe_table(conn, table_name: str):\n",
    "    cursor = conn.cursor()\n",
    "    cursor.execute(f\"PRAGMA table_info({table_name});\")\n",
    "    return [(col[1], col[2]) for col in cursor.fetchall()]"
   ]
  },
  {
   "cell_type": "code",
   "execution_count": 17,
   "metadata": {},
   "outputs": [],
   "source": [
    "# Query function for both kaggle and user inputed csv: \n",
    "def execute_query(conn, sql: str) -> list[list[str]]:\n",
    "    print(f' - DB CALL: execute_query({sql})')\n",
    "    cursor = conn.cursor()\n",
    "    cursor.execute(sql)\n",
    "    return cursor.fetchall()"
   ]
  },
  {
   "cell_type": "markdown",
   "metadata": {},
   "source": [
    "## running SQL Queries for the kaggle data set"
   ]
  },
  {
   "cell_type": "code",
   "execution_count": 18,
   "metadata": {},
   "outputs": [
    {
     "data": {
      "text/plain": [
       "250"
      ]
     },
     "execution_count": 18,
     "metadata": {},
     "output_type": "execute_result"
    }
   ],
   "source": [
    "kaggle_conn = sqlite3.connect(\"sample.db\")\n",
    "data.columns = [col.strip().replace(\" \", \"_\") for col in data.columns]\n",
    "data.to_sql(\"data\", kaggle_conn, if_exists=\"replace\", index=False)"
   ]
  },
  {
   "cell_type": "code",
   "execution_count": 19,
   "metadata": {},
   "outputs": [
    {
     "data": {
      "text/plain": [
       "[('Order_ID', 'TEXT'),\n",
       " ('Date', 'TEXT'),\n",
       " ('Product', 'TEXT'),\n",
       " ('Category', 'TEXT'),\n",
       " ('Price', 'INTEGER'),\n",
       " ('Quantity', 'INTEGER'),\n",
       " ('Total_Sales', 'INTEGER'),\n",
       " ('Customer_Name', 'TEXT'),\n",
       " ('Customer_Location', 'TEXT'),\n",
       " ('Payment_Method', 'TEXT'),\n",
       " ('Status', 'TEXT')]"
      ]
     },
     "execution_count": 19,
     "metadata": {},
     "output_type": "execute_result"
    }
   ],
   "source": [
    "describe_table(kaggle_conn, \"data\")"
   ]
  },
  {
   "cell_type": "code",
   "execution_count": 20,
   "metadata": {},
   "outputs": [
    {
     "name": "stdout",
     "output_type": "stream",
     "text": [
      " - DB CALL: execute_query(select * from data where Category == 'Footwear')\n"
     ]
    },
    {
     "data": {
      "text/plain": [
       "[('ORD0001',\n",
       "  '14-03-25',\n",
       "  'Running Shoes',\n",
       "  'Footwear',\n",
       "  60,\n",
       "  3,\n",
       "  180,\n",
       "  'Emma Clark',\n",
       "  'New York',\n",
       "  'Debit Card',\n",
       "  'Cancelled'),\n",
       " ('ORD0003',\n",
       "  '15-02-25',\n",
       "  'Running Shoes',\n",
       "  'Footwear',\n",
       "  60,\n",
       "  2,\n",
       "  120,\n",
       "  'John Doe',\n",
       "  'Denver',\n",
       "  'Amazon Pay',\n",
       "  'Cancelled'),\n",
       " ('ORD0004',\n",
       "  '19-02-25',\n",
       "  'Running Shoes',\n",
       "  'Footwear',\n",
       "  60,\n",
       "  3,\n",
       "  180,\n",
       "  'Olivia Wilson',\n",
       "  'Dallas',\n",
       "  'Credit Card',\n",
       "  'Pending'),\n",
       " ('ORD0019',\n",
       "  '22-03-25',\n",
       "  'Running Shoes',\n",
       "  'Footwear',\n",
       "  60,\n",
       "  3,\n",
       "  180,\n",
       "  'Olivia Wilson',\n",
       "  'Houston',\n",
       "  'Credit Card',\n",
       "  'Completed'),\n",
       " ('ORD0046',\n",
       "  '06-03-25',\n",
       "  'Running Shoes',\n",
       "  'Footwear',\n",
       "  60,\n",
       "  2,\n",
       "  120,\n",
       "  'David Lee',\n",
       "  'Houston',\n",
       "  'Debit Card',\n",
       "  'Cancelled'),\n",
       " ('ORD0053',\n",
       "  '24-03-25',\n",
       "  'Running Shoes',\n",
       "  'Footwear',\n",
       "  60,\n",
       "  4,\n",
       "  240,\n",
       "  'Emily Johnson',\n",
       "  'Los Angeles',\n",
       "  'PayPal',\n",
       "  'Completed'),\n",
       " ('ORD0079',\n",
       "  '09-03-25',\n",
       "  'Running Shoes',\n",
       "  'Footwear',\n",
       "  60,\n",
       "  2,\n",
       "  120,\n",
       "  'Emily Johnson',\n",
       "  'Denver',\n",
       "  'Gift Card',\n",
       "  'Cancelled'),\n",
       " ('ORD0080',\n",
       "  '23-02-25',\n",
       "  'Running Shoes',\n",
       "  'Footwear',\n",
       "  60,\n",
       "  4,\n",
       "  240,\n",
       "  'Sophia Miller',\n",
       "  'San Francisco',\n",
       "  'Debit Card',\n",
       "  'Pending'),\n",
       " ('ORD0087',\n",
       "  '13-03-25',\n",
       "  'Running Shoes',\n",
       "  'Footwear',\n",
       "  60,\n",
       "  5,\n",
       "  300,\n",
       "  'Emma Clark',\n",
       "  'Miami',\n",
       "  'Debit Card',\n",
       "  'Completed'),\n",
       " ('ORD0089',\n",
       "  '26-03-25',\n",
       "  'Running Shoes',\n",
       "  'Footwear',\n",
       "  60,\n",
       "  5,\n",
       "  300,\n",
       "  'Emma Clark',\n",
       "  'Los Angeles',\n",
       "  'Credit Card',\n",
       "  'Cancelled'),\n",
       " ('ORD0100',\n",
       "  '13-02-25',\n",
       "  'Running Shoes',\n",
       "  'Footwear',\n",
       "  60,\n",
       "  1,\n",
       "  60,\n",
       "  'Jane Smith',\n",
       "  'Houston',\n",
       "  'Gift Card',\n",
       "  'Cancelled'),\n",
       " ('ORD0114',\n",
       "  '23-02-25',\n",
       "  'Running Shoes',\n",
       "  'Footwear',\n",
       "  60,\n",
       "  1,\n",
       "  60,\n",
       "  'Emma Clark',\n",
       "  'Houston',\n",
       "  'Credit Card',\n",
       "  'Pending'),\n",
       " ('ORD0115',\n",
       "  '21-03-25',\n",
       "  'Running Shoes',\n",
       "  'Footwear',\n",
       "  60,\n",
       "  3,\n",
       "  180,\n",
       "  'Olivia Wilson',\n",
       "  'Miami',\n",
       "  'Amazon Pay',\n",
       "  'Completed'),\n",
       " ('ORD0147',\n",
       "  '05-02-25',\n",
       "  'Running Shoes',\n",
       "  'Footwear',\n",
       "  60,\n",
       "  5,\n",
       "  300,\n",
       "  'Jane Smith',\n",
       "  'Dallas',\n",
       "  'PayPal',\n",
       "  'Pending'),\n",
       " ('ORD0149',\n",
       "  '20-03-25',\n",
       "  'Running Shoes',\n",
       "  'Footwear',\n",
       "  60,\n",
       "  3,\n",
       "  180,\n",
       "  'Michael Brown',\n",
       "  'New York',\n",
       "  'Gift Card',\n",
       "  'Pending'),\n",
       " ('ORD0163',\n",
       "  '20-02-25',\n",
       "  'Running Shoes',\n",
       "  'Footwear',\n",
       "  60,\n",
       "  2,\n",
       "  120,\n",
       "  'Chris White',\n",
       "  'Houston',\n",
       "  'PayPal',\n",
       "  'Completed'),\n",
       " ('ORD0181',\n",
       "  '03-03-25',\n",
       "  'Running Shoes',\n",
       "  'Footwear',\n",
       "  60,\n",
       "  2,\n",
       "  120,\n",
       "  'David Lee',\n",
       "  'Los Angeles',\n",
       "  'Debit Card',\n",
       "  'Cancelled'),\n",
       " ('ORD0190',\n",
       "  '23-02-25',\n",
       "  'Running Shoes',\n",
       "  'Footwear',\n",
       "  60,\n",
       "  1,\n",
       "  60,\n",
       "  'Sophia Miller',\n",
       "  'Houston',\n",
       "  'PayPal',\n",
       "  'Completed'),\n",
       " ('ORD0197',\n",
       "  '12-03-25',\n",
       "  'Running Shoes',\n",
       "  'Footwear',\n",
       "  60,\n",
       "  2,\n",
       "  120,\n",
       "  'Michael Brown',\n",
       "  'Denver',\n",
       "  'Gift Card',\n",
       "  'Completed'),\n",
       " ('ORD0204',\n",
       "  '08-03-25',\n",
       "  'Running Shoes',\n",
       "  'Footwear',\n",
       "  60,\n",
       "  5,\n",
       "  300,\n",
       "  'Jane Smith',\n",
       "  'Miami',\n",
       "  'Gift Card',\n",
       "  'Pending'),\n",
       " ('ORD0215',\n",
       "  '07-03-25',\n",
       "  'Running Shoes',\n",
       "  'Footwear',\n",
       "  60,\n",
       "  1,\n",
       "  60,\n",
       "  'Emma Clark',\n",
       "  'Houston',\n",
       "  'PayPal',\n",
       "  'Completed'),\n",
       " ('ORD0217',\n",
       "  '19-03-25',\n",
       "  'Running Shoes',\n",
       "  'Footwear',\n",
       "  60,\n",
       "  2,\n",
       "  120,\n",
       "  'Emma Clark',\n",
       "  'Boston',\n",
       "  'Gift Card',\n",
       "  'Pending'),\n",
       " ('ORD0226',\n",
       "  '05-03-25',\n",
       "  'Running Shoes',\n",
       "  'Footwear',\n",
       "  60,\n",
       "  4,\n",
       "  240,\n",
       "  'Chris White',\n",
       "  'Chicago',\n",
       "  'Amazon Pay',\n",
       "  'Completed'),\n",
       " ('ORD0228',\n",
       "  '12-02-25',\n",
       "  'Running Shoes',\n",
       "  'Footwear',\n",
       "  60,\n",
       "  1,\n",
       "  60,\n",
       "  'David Lee',\n",
       "  'San Francisco',\n",
       "  'Credit Card',\n",
       "  'Pending'),\n",
       " ('ORD0229',\n",
       "  '21-03-25',\n",
       "  'Running Shoes',\n",
       "  'Footwear',\n",
       "  60,\n",
       "  3,\n",
       "  180,\n",
       "  'Emma Clark',\n",
       "  'San Francisco',\n",
       "  'Credit Card',\n",
       "  'Pending'),\n",
       " ('ORD0233',\n",
       "  '20-02-25',\n",
       "  'Running Shoes',\n",
       "  'Footwear',\n",
       "  60,\n",
       "  1,\n",
       "  60,\n",
       "  'David Lee',\n",
       "  'Boston',\n",
       "  'PayPal',\n",
       "  'Cancelled'),\n",
       " ('ORD0243',\n",
       "  '05-03-25',\n",
       "  'Running Shoes',\n",
       "  'Footwear',\n",
       "  60,\n",
       "  2,\n",
       "  120,\n",
       "  'Chris White',\n",
       "  'Houston',\n",
       "  'Amazon Pay',\n",
       "  'Completed')]"
      ]
     },
     "execution_count": 20,
     "metadata": {},
     "output_type": "execute_result"
    }
   ],
   "source": [
    "execute_query(kaggle_conn, \"select * from data where Category == 'Footwear'\")"
   ]
  },
  {
   "cell_type": "markdown",
   "metadata": {},
   "source": [
    "## Running SQL Queries from the input data"
   ]
  },
  {
   "cell_type": "code",
   "execution_count": 21,
   "metadata": {},
   "outputs": [
    {
     "data": {
      "text/plain": [
       "53940"
      ]
     },
     "execution_count": 21,
     "metadata": {},
     "output_type": "execute_result"
    }
   ],
   "source": [
    "user_conn = sqlite3.connect(\"sample_1.db\")\n",
    "df.columns = [col.strip().replace(\" \", \"_\") for col in df.columns]\n",
    "df.to_sql(\"df\", user_conn, if_exists=\"replace\", index=False)"
   ]
  },
  {
   "cell_type": "code",
   "execution_count": 22,
   "metadata": {},
   "outputs": [
    {
     "data": {
      "text/plain": [
       "[('Unnamed:_0', 'INTEGER'),\n",
       " ('carat', 'REAL'),\n",
       " ('cut', 'TEXT'),\n",
       " ('color', 'TEXT'),\n",
       " ('clarity', 'TEXT'),\n",
       " ('depth', 'REAL'),\n",
       " ('table', 'REAL'),\n",
       " ('price', 'INTEGER'),\n",
       " ('x', 'REAL'),\n",
       " ('y', 'REAL'),\n",
       " ('z', 'REAL')]"
      ]
     },
     "execution_count": 22,
     "metadata": {},
     "output_type": "execute_result"
    }
   ],
   "source": [
    "describe_table(user_conn, \"df\")"
   ]
  },
  {
   "cell_type": "code",
   "execution_count": 23,
   "metadata": {},
   "outputs": [
    {
     "name": "stdout",
     "output_type": "stream",
     "text": [
      "📂 Default dataset loaded into SQLite as 'data'\n",
      "📂 User-uploaded dataset loaded into SQLite as 'df'\n"
     ]
    }
   ],
   "source": [
    "print(\"📂 Default dataset loaded into SQLite as 'data'\")\n",
    "print(\"📂 User-uploaded dataset loaded into SQLite as 'df'\")"
   ]
  },
  {
   "cell_type": "markdown",
   "metadata": {},
   "source": [
    "# 5. Agents"
   ]
  },
  {
   "cell_type": "code",
   "execution_count": 24,
   "metadata": {},
   "outputs": [],
   "source": [
    "from tabulate import tabulate\n",
    "import google.generativeai as genai\n",
    "\n",
    "# Make sure you have your API key configured somewhere before this\n",
    "genai.configure(api_key=GOOGLE_API_KEY)\n",
    "\n",
    "# Create model instance\n",
    "model = genai.GenerativeModel(\"gemini-2.0-flash\")\n",
    "\n",
    "# Global config\n",
    "short_config = genai.types.GenerationConfig(max_output_tokens=200)"
   ]
  },
  {
   "cell_type": "code",
   "execution_count": 25,
   "metadata": {},
   "outputs": [],
   "source": [
    "# Agents function for both kaggle and user inputed csv:\n",
    "def agent_loop(df, conn, table_name=\"data\"):\n",
    "    print(\"🔍 Ask a question about the dataset (or type 'exit'):\")\n",
    "\n",
    "    # Dynamically build schema from df\n",
    "    schema = f\"Table: {table_name}\\nColumns:\\n\"\n",
    "    for col in df.columns:\n",
    "        schema += f\"- {col}\\n\"\n",
    "\n",
    "    # Start interaction loop\n",
    "    while True:\n",
    "        user_input = input(\"\\n🧍 You: \")\n",
    "        if user_input.lower() == \"exit\":\n",
    "            break\n",
    "\n",
    "        # Prompt for SQL\n",
    "        prompt = f\"\"\"\n",
    "        You are a helpful assistant that answers data questions by generating SQL queries.\n",
    "        Here is the table schema:\n",
    "        {schema}\n",
    "        Question: {user_input}\n",
    "        Only respond with a valid SQL query.\n",
    "        \"\"\"\n",
    "        response = model.generate_content(prompt, generation_config=short_config)\n",
    "        sql = response.text.strip().replace(\"```sql\", \"\").replace(\"```\", \"\").strip()\n",
    "        print(f\"\\n🧾 Cleaned SQL:\\n{sql}\")\n",
    "\n",
    "        try:\n",
    "            result = execute_query(conn, sql)\n",
    "            print(\"\\n📊 Query Results:\")\n",
    "            for row in result:\n",
    "                print(row)\n",
    "\n",
    "            # Explanation\n",
    "            summary_prompt = f\"\"\"\n",
    "            Here is the result of the SQL query:\n",
    "            {result}\n",
    "            Explain this result in plain English for a data analyst.\n",
    "            \"\"\"\n",
    "            summary = model.generate_content(summary_prompt, generation_config=short_config)\n",
    "            print(f\"\\n🗣️ Summary:\\n{summary.text}\")\n",
    "        except Exception as e:\n",
    "            print(f\"❌ Error: {e}\")\n"
   ]
  },
  {
   "cell_type": "markdown",
   "metadata": {},
   "source": [
    "## 5. 🤖 Agent Mode: Chat with Your Data W kaggle data and input data"
   ]
  },
  {
   "cell_type": "code",
   "execution_count": 26,
   "metadata": {},
   "outputs": [
    {
     "name": "stdout",
     "output_type": "stream",
     "text": [
      "🔍 Ask a question about the dataset (or type 'exit'):\n",
      "\n",
      "🧾 Cleaned SQL:\n",
      "SELECT sum(Total_Sales) FROM data\n",
      " - DB CALL: execute_query(SELECT sum(Total_Sales) FROM data)\n",
      "\n",
      "📊 Query Results:\n",
      "(243845,)\n",
      "\n",
      "🗣️ Summary:\n",
      "Okay, here's the explanation in plain English for a data analyst:\n",
      "\n",
      "\"The SQL query you ran returned a single row containing one value: 243845.  It's being presented as a tuple with one element, which is a common way Python (and some SQL query tools) return data.  Therefore, the query appears to have isolated a single numerical result, most likely representing some kind of count, ID, or aggregated value based on the query's criteria. You should look back at the original SQL query to understand what that single number (243845) actually represents in your data.\"\n",
      "\n",
      "**In simpler terms:**\n",
      "\n",
      "\"Your query pulled out just one number: 243845. It's the only result. To understand what it *means*, you need to look back at the SQL you wrote to get it.\"\n",
      "\n",
      "**Key things to consider based on this result:**\n",
      "\n",
      "*   **Review the\n"
     ]
    }
   ],
   "source": [
    "agent_loop(data, kaggle_conn)"
   ]
  },
  {
   "cell_type": "code",
   "execution_count": 27,
   "metadata": {},
   "outputs": [
    {
     "name": "stdout",
     "output_type": "stream",
     "text": [
      "🔍 Ask a question about the dataset (or type 'exit'):\n",
      "\n",
      "🧾 Cleaned SQL:\n",
      "SELECT sum(price) FROM df\n",
      " - DB CALL: execute_query(SELECT sum(price) FROM df)\n",
      "\n",
      "📊 Query Results:\n",
      "(212135217,)\n",
      "\n",
      "🗣️ Summary:\n",
      "Okay, here's the explanation for a data analyst:\n",
      "\n",
      "\"The SQL query you ran returned a single row, and within that row, there's one column.  The value in that column is 212135217.  Without knowing the context of the query, it's difficult to say exactly what this number represents, but the query selected one value so it might be :\n",
      "\n",
      "*   **A count:** For example, it could be the total number of customers, orders, products, etc. that match certain criteria.\n",
      "*   **An ID:** This number may be a single ID that the query was intended to retrieve.\n",
      "*   **A sum/average/other aggregate:** The number could be the result of a calculation, such as the total revenue, average order value, or maximum price, etc.\n",
      "\n",
      "To understand the meaning of this number you need to look at the query and see which table was queried and if there was\n"
     ]
    }
   ],
   "source": [
    "\"\"\"Uncomment the line below to execute the agent_loop on the user-uploaded dataset.\"\"\"\n",
    "agent_loop(df, user_conn, table_name=\"df\")"
   ]
  },
  {
   "cell_type": "code",
   "execution_count": 28,
   "metadata": {},
   "outputs": [
    {
     "data": {
      "text/plain": [
       "'Uncomment the line below to execute a query on the user-uploaded dataset.'"
      ]
     },
     "execution_count": 28,
     "metadata": {},
     "output_type": "execute_result"
    }
   ],
   "source": [
    "\"\"\"Uncomment the line below to execute a query on the user-uploaded dataset.\"\"\"\n",
    "# execute_query()"
   ]
  }
 ],
 "metadata": {
  "kernelspec": {
   "display_name": "Python 3",
   "language": "python",
   "name": "python3"
  },
  "language_info": {
   "codemirror_mode": {
    "name": "ipython",
    "version": 3
   },
   "file_extension": ".py",
   "mimetype": "text/x-python",
   "name": "python",
   "nbconvert_exporter": "python",
   "pygments_lexer": "ipython3",
   "version": "3.12.2"
  }
 },
 "nbformat": 4,
 "nbformat_minor": 2
}
