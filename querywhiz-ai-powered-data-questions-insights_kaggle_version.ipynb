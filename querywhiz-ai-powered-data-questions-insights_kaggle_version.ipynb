{
 "cells": [
  {
   "cell_type": "markdown",
   "metadata": {},
   "source": [
    "# 🤖 GenAI for Data Analysis: Ask Questions, Get SQL, Understand Results\n",
    "\n",
    "Welcome! This project demonstrates how to use **Google Gemini AI** to enhance the data analysis process with:\n",
    "- AI-generated **questions and SQL queries**\n",
    "- Natural language **summaries of query results**\n",
    "- Support for **custom CSV uploads** or a built-in **Kaggle dataset**\n",
    "\n",
    "🎯 Goal: Show how GenAI can act like a smart analyst assistant for any dataset.\n"
   ]
  },
  {
   "cell_type": "markdown",
   "metadata": {},
   "source": [
    "# 1. 🔧 Setup: Libraries, API Key, and Imports"
   ]
  },
  {
   "cell_type": "code",
   "execution_count": null,
   "metadata": {
    "execution": {
     "iopub.execute_input": "2025-04-16T21:10:14.916096Z",
     "iopub.status.busy": "2025-04-16T21:10:14.915815Z",
     "iopub.status.idle": "2025-04-16T21:10:16.174000Z",
     "shell.execute_reply": "2025-04-16T21:10:16.173089Z",
     "shell.execute_reply.started": "2025-04-16T21:10:14.916070Z"
    },
    "trusted": true
   },
   "outputs": [],
   "source": [
    "# Gemini + API Setup\n",
    "from google import genai\n",
    "from google.genai import types\n",
    "from kaggle_secrets import UserSecretsClient\n",
    "import warnings"
   ]
  },
  {
   "cell_type": "code",
   "execution_count": null,
   "metadata": {
    "execution": {
     "iopub.execute_input": "2025-04-16T21:10:16.175847Z",
     "iopub.status.busy": "2025-04-16T21:10:16.175473Z",
     "iopub.status.idle": "2025-04-16T21:10:16.461912Z",
     "shell.execute_reply": "2025-04-16T21:10:16.461016Z",
     "shell.execute_reply.started": "2025-04-16T21:10:16.175827Z"
    },
    "trusted": true
   },
   "outputs": [],
   "source": [
    "# For API retry handling\n",
    "from google.api_core import retry"
   ]
  },
  {
   "cell_type": "code",
   "execution_count": null,
   "metadata": {
    "execution": {
     "iopub.execute_input": "2025-04-16T21:10:16.463321Z",
     "iopub.status.busy": "2025-04-16T21:10:16.462834Z",
     "iopub.status.idle": "2025-04-16T21:10:18.582392Z",
     "shell.execute_reply": "2025-04-16T21:10:18.581509Z",
     "shell.execute_reply.started": "2025-04-16T21:10:16.463291Z"
    },
    "trusted": true
   },
   "outputs": [],
   "source": [
    "# Displaying Data\n",
    "import pandas as pd"
   ]
  },
  {
   "cell_type": "code",
   "execution_count": null,
   "metadata": {
    "execution": {
     "iopub.execute_input": "2025-04-16T21:10:18.583871Z",
     "iopub.status.busy": "2025-04-16T21:10:18.583324Z",
     "iopub.status.idle": "2025-04-16T21:10:18.588041Z",
     "shell.execute_reply": "2025-04-16T21:10:18.586976Z",
     "shell.execute_reply.started": "2025-04-16T21:10:18.583841Z"
    },
    "trusted": true
   },
   "outputs": [],
   "source": [
    "# SQLite DB\n",
    "import sqlite3"
   ]
  },
  {
   "cell_type": "code",
   "execution_count": null,
   "metadata": {
    "execution": {
     "iopub.execute_input": "2025-04-16T21:10:18.590742Z",
     "iopub.status.busy": "2025-04-16T21:10:18.590478Z",
     "iopub.status.idle": "2025-04-16T21:10:18.771158Z",
     "shell.execute_reply": "2025-04-16T21:10:18.770381Z",
     "shell.execute_reply.started": "2025-04-16T21:10:18.590715Z"
    },
    "trusted": true
   },
   "outputs": [],
   "source": [
    "# Librairies for the inputed csv:\n",
    "from IPython.display import display\n",
    "import ipywidgets as widgets\n",
    "import io"
   ]
  },
  {
   "cell_type": "code",
   "execution_count": null,
   "metadata": {
    "execution": {
     "iopub.execute_input": "2025-04-16T21:10:18.772121Z",
     "iopub.status.busy": "2025-04-16T21:10:18.771839Z",
     "iopub.status.idle": "2025-04-16T21:10:18.778458Z",
     "shell.execute_reply": "2025-04-16T21:10:18.776861Z",
     "shell.execute_reply.started": "2025-04-16T21:10:18.772095Z"
    },
    "trusted": true
   },
   "outputs": [],
   "source": [
    "# API Error \n",
    "is_retriable = lambda e: (isinstance(e, genai.errors.APIError) and e.code in {429, 503})\n",
    "\n",
    "genai.models.Models.generate_content = retry.Retry(\n",
    "    predicate=is_retriable)(genai.models.Models.generate_content)"
   ]
  },
  {
   "cell_type": "code",
   "execution_count": null,
   "metadata": {
    "execution": {
     "iopub.execute_input": "2025-04-16T21:10:18.781015Z",
     "iopub.status.busy": "2025-04-16T21:10:18.780727Z",
     "iopub.status.idle": "2025-04-16T21:10:18.899152Z",
     "shell.execute_reply": "2025-04-16T21:10:18.898250Z",
     "shell.execute_reply.started": "2025-04-16T21:10:18.780993Z"
    },
    "trusted": true
   },
   "outputs": [],
   "source": [
    "# getting API key\n",
    "GOOGLE_API_KEY = UserSecretsClient().get_secret(\"GOOGLE_API_KEY\")\n",
    "client = genai.Client(api_key=GOOGLE_API_KEY)"
   ]
  },
  {
   "cell_type": "markdown",
   "metadata": {},
   "source": [
    "# 2. 📂 Load a Dataset (Kaggle OR Upload your own CSV)"
   ]
  },
  {
   "cell_type": "markdown",
   "metadata": {},
   "source": [
    "## Loading kaggle data"
   ]
  },
  {
   "cell_type": "code",
   "execution_count": null,
   "metadata": {
    "execution": {
     "iopub.execute_input": "2025-04-16T21:10:18.901272Z",
     "iopub.status.busy": "2025-04-16T21:10:18.900916Z",
     "iopub.status.idle": "2025-04-16T21:10:18.959555Z",
     "shell.execute_reply": "2025-04-16T21:10:18.958661Z",
     "shell.execute_reply.started": "2025-04-16T21:10:18.901243Z"
    },
    "trusted": true
   },
   "outputs": [],
   "source": [
    "# Data Set: \n",
    "data = pd.read_csv('/kaggle/input/amazon-sales-2025/amazon_sales_data 2025.csv')\n",
    "data"
   ]
  },
  {
   "cell_type": "markdown",
   "metadata": {},
   "source": [
    "## Loading input data"
   ]
  },
  {
   "cell_type": "markdown",
   "metadata": {},
   "source": [
    "> 👉 **Tip**: You can upload your own `.csv` file using the widget below. If you skip this step, the notebook will use a default Amazon Sales dataset.\n"
   ]
  },
  {
   "cell_type": "code",
   "execution_count": null,
   "metadata": {
    "execution": {
     "iopub.execute_input": "2025-04-16T21:10:18.961269Z",
     "iopub.status.busy": "2025-04-16T21:10:18.960782Z",
     "iopub.status.idle": "2025-04-16T21:10:18.975164Z",
     "shell.execute_reply": "2025-04-16T21:10:18.974288Z",
     "shell.execute_reply.started": "2025-04-16T21:10:18.961239Z"
    },
    "trusted": true
   },
   "outputs": [],
   "source": [
    "# Upload CSV widget\n",
    "upload = widgets.FileUpload(accept='.csv', multiple=False)\n",
    "display(upload)\n",
    "\n",
    "# Handle upload\n",
    "def handle_upload():\n",
    "    if upload.value:\n",
    "        for filename in upload.value:\n",
    "            content = upload.value[filename]['content']\n",
    "            df = pd.read_csv(io.BytesIO(content))\n",
    "            df.columns = [col.strip().replace(\" \", \"_\") for col in df.columns]\n",
    "            return df\n",
    "    return None  # No file uploaded\n",
    "\n",
    "# Try user upload\n",
    "df = handle_upload()\n",
    "\n",
    "# Fallback if nothing is uploaded\n",
    "if df is None:\n",
    "    print(\"⚠️ No user file uploaded — using default Kaggle dataset instead.\")\n",
    "    df = pd.read_csv('/kaggle/input/amazon-sales-2025/amazon_sales_data 2025.csv')\n",
    "    df.columns = [col.strip().replace(\" \", \"_\") for col in df.columns]\n"
   ]
  },
  {
   "cell_type": "markdown",
   "metadata": {},
   "source": [
    "# 3. 🧠 Ask AI: What Should We Explore?"
   ]
  },
  {
   "cell_type": "markdown",
   "metadata": {},
   "source": [
    "## prompt for the kaggle data set"
   ]
  },
  {
   "cell_type": "code",
   "execution_count": null,
   "metadata": {
    "execution": {
     "iopub.execute_input": "2025-04-16T21:10:18.976344Z",
     "iopub.status.busy": "2025-04-16T21:10:18.976043Z",
     "iopub.status.idle": "2025-04-16T21:10:20.787790Z",
     "shell.execute_reply": "2025-04-16T21:10:20.786775Z",
     "shell.execute_reply.started": "2025-04-16T21:10:18.976318Z"
    },
    "trusted": true
   },
   "outputs": [],
   "source": [
    "# Prompt:\n",
    "sample = data.head(5).to_markdown()  # Only show a small sample in the prompt\n",
    "prompt = f\"\"\"\n",
    "Here is a a few rows of our dataset:\n",
    "\n",
    "{sample}\n",
    "\n",
    "Based on this dataset, what are some useful questions we should ask during further data analysis?\n",
    "\"\"\"\n",
    "\n",
    "short_config = types.GenerateContentConfig(max_output_tokens=200)\n",
    "\n",
    "response = client.models.generate_content(\n",
    "    model='gemini-2.0-flash',\n",
    "    config=short_config,\n",
    "    contents=prompt\n",
    ")\n",
    "print(response.text)"
   ]
  },
  {
   "cell_type": "markdown",
   "metadata": {},
   "source": [
    "## Prompt for the input data"
   ]
  },
  {
   "cell_type": "code",
   "execution_count": null,
   "metadata": {
    "execution": {
     "iopub.execute_input": "2025-04-16T21:10:20.788972Z",
     "iopub.status.busy": "2025-04-16T21:10:20.788668Z",
     "iopub.status.idle": "2025-04-16T21:10:22.501497Z",
     "shell.execute_reply": "2025-04-16T21:10:22.500576Z",
     "shell.execute_reply.started": "2025-04-16T21:10:20.788946Z"
    },
    "trusted": true
   },
   "outputs": [],
   "source": [
    "# Prompt:\n",
    "sample_1 = df.head(5).to_markdown()\n",
    "\n",
    "prompt_1 = f\"\"\"\n",
    "Here is a few rows of our dataset:\n",
    "\n",
    "{sample_1}\n",
    "\n",
    "Based on this dataset, what are some useful questions we should ask during further data analysis?\n",
    "\"\"\"\n",
    "\n",
    "response = client.models.generate_content(\n",
    "    model='gemini-2.0-flash',\n",
    "    config=short_config,\n",
    "    contents=prompt_1\n",
    ")\n",
    "\n",
    "print(response.text)\n"
   ]
  },
  {
   "cell_type": "markdown",
   "metadata": {},
   "source": [
    "# 4. 🧾 Generate & Run SQL Queries from Natural Language"
   ]
  },
  {
   "cell_type": "code",
   "execution_count": null,
   "metadata": {
    "execution": {
     "iopub.execute_input": "2025-04-16T21:10:22.502751Z",
     "iopub.status.busy": "2025-04-16T21:10:22.502428Z",
     "iopub.status.idle": "2025-04-16T21:10:22.507923Z",
     "shell.execute_reply": "2025-04-16T21:10:22.506712Z",
     "shell.execute_reply.started": "2025-04-16T21:10:22.502724Z"
    },
    "trusted": true
   },
   "outputs": [],
   "source": [
    "# description function for both kaggle and user inputed csv:\n",
    "def describe_table(table_name: str):\n",
    "    cursor = db_conn.cursor()\n",
    "    cursor.execute(f\"PRAGMA table_info({table_name});\")\n",
    "    return [(col[1], col[2]) for col in cursor.fetchall()]"
   ]
  },
  {
   "cell_type": "code",
   "execution_count": null,
   "metadata": {
    "execution": {
     "iopub.execute_input": "2025-04-16T21:10:22.509261Z",
     "iopub.status.busy": "2025-04-16T21:10:22.508979Z",
     "iopub.status.idle": "2025-04-16T21:10:22.526851Z",
     "shell.execute_reply": "2025-04-16T21:10:22.525870Z",
     "shell.execute_reply.started": "2025-04-16T21:10:22.509236Z"
    },
    "trusted": true
   },
   "outputs": [],
   "source": [
    "# Query function for both kaggle and user inputed csv: \n",
    "def execute_query(sql: str) -> list[list[str]]:\n",
    "    \"\"\"Execute an SQL statement, returning the results.\"\"\"\n",
    "    print(f' - DB CALL: execute_query({sql})')\n",
    "\n",
    "    cursor = db_conn.cursor()\n",
    "\n",
    "    cursor.execute(sql)\n",
    "    return cursor.fetchall()"
   ]
  },
  {
   "cell_type": "markdown",
   "metadata": {},
   "source": [
    "## running SQL Queries for the kaggle data set"
   ]
  },
  {
   "cell_type": "code",
   "execution_count": null,
   "metadata": {
    "execution": {
     "iopub.execute_input": "2025-04-16T21:10:22.530106Z",
     "iopub.status.busy": "2025-04-16T21:10:22.529773Z",
     "iopub.status.idle": "2025-04-16T21:10:22.575504Z",
     "shell.execute_reply": "2025-04-16T21:10:22.574592Z",
     "shell.execute_reply.started": "2025-04-16T21:10:22.530084Z"
    },
    "trusted": true
   },
   "outputs": [],
   "source": [
    "# Using sqlite3 to create the database\n",
    "data.columns = [col.strip().replace(\" \", \"_\") for col in data.columns]  # Clean column names\n",
    "\n",
    "db_conn = sqlite3.connect(\"sample.db\")\n",
    "data.to_sql(\"data\", db_conn, if_exists=\"replace\", index=False)\n"
   ]
  },
  {
   "cell_type": "code",
   "execution_count": null,
   "metadata": {
    "execution": {
     "iopub.execute_input": "2025-04-16T21:10:22.576816Z",
     "iopub.status.busy": "2025-04-16T21:10:22.576483Z",
     "iopub.status.idle": "2025-04-16T21:10:22.584683Z",
     "shell.execute_reply": "2025-04-16T21:10:22.583773Z",
     "shell.execute_reply.started": "2025-04-16T21:10:22.576788Z"
    },
    "trusted": true
   },
   "outputs": [],
   "source": [
    "describe_table(\"data\")"
   ]
  },
  {
   "cell_type": "code",
   "execution_count": null,
   "metadata": {
    "execution": {
     "iopub.execute_input": "2025-04-16T21:10:22.586122Z",
     "iopub.status.busy": "2025-04-16T21:10:22.585816Z",
     "iopub.status.idle": "2025-04-16T21:10:22.605012Z",
     "shell.execute_reply": "2025-04-16T21:10:22.604245Z",
     "shell.execute_reply.started": "2025-04-16T21:10:22.586100Z"
    },
    "trusted": true
   },
   "outputs": [],
   "source": [
    "execute_query(\"select * from data where Category == 'Footwear'\")"
   ]
  },
  {
   "cell_type": "markdown",
   "metadata": {},
   "source": [
    "## Running SQL Queries from the input data"
   ]
  },
  {
   "cell_type": "code",
   "execution_count": null,
   "metadata": {
    "execution": {
     "iopub.execute_input": "2025-04-16T21:10:22.606127Z",
     "iopub.status.busy": "2025-04-16T21:10:22.605888Z",
     "iopub.status.idle": "2025-04-16T21:10:22.641924Z",
     "shell.execute_reply": "2025-04-16T21:10:22.641124Z",
     "shell.execute_reply.started": "2025-04-16T21:10:22.606107Z"
    },
    "trusted": true
   },
   "outputs": [],
   "source": [
    "# 🛢️ Save uploaded data to SQLite\n",
    "db_conn = sqlite3.connect(\"sample_1.db\")\n",
    "df.to_sql(\"df\", db_conn, if_exists=\"replace\", index=False)"
   ]
  },
  {
   "cell_type": "code",
   "execution_count": null,
   "metadata": {
    "execution": {
     "iopub.execute_input": "2025-04-16T21:10:22.643137Z",
     "iopub.status.busy": "2025-04-16T21:10:22.642841Z",
     "iopub.status.idle": "2025-04-16T21:10:22.650232Z",
     "shell.execute_reply": "2025-04-16T21:10:22.649167Z",
     "shell.execute_reply.started": "2025-04-16T21:10:22.643113Z"
    },
    "trusted": true
   },
   "outputs": [],
   "source": [
    "describe_table(\"df\")"
   ]
  },
  {
   "cell_type": "code",
   "execution_count": null,
   "metadata": {
    "execution": {
     "iopub.execute_input": "2025-04-16T21:10:22.651503Z",
     "iopub.status.busy": "2025-04-16T21:10:22.651244Z",
     "iopub.status.idle": "2025-04-16T21:10:22.669030Z",
     "shell.execute_reply": "2025-04-16T21:10:22.668057Z",
     "shell.execute_reply.started": "2025-04-16T21:10:22.651478Z"
    },
    "trusted": true
   },
   "outputs": [],
   "source": [
    "\"\"\"Uncomment the line below to execute a query on the user-uploaded dataset.\"\"\"\n",
    "# execute_query()"
   ]
  },
  {
   "cell_type": "markdown",
   "metadata": {},
   "source": [
    "# 5. Agents"
   ]
  },
  {
   "cell_type": "code",
   "execution_count": null,
   "metadata": {
    "execution": {
     "iopub.execute_input": "2025-04-16T21:10:22.670433Z",
     "iopub.status.busy": "2025-04-16T21:10:22.670087Z",
     "iopub.status.idle": "2025-04-16T21:10:22.688730Z",
     "shell.execute_reply": "2025-04-16T21:10:22.687909Z",
     "shell.execute_reply.started": "2025-04-16T21:10:22.670405Z"
    },
    "trusted": true
   },
   "outputs": [],
   "source": [
    "# Agents function for both kaggle and user inputed csv:\n",
    "def agent_loop(df, table_name=\"data\"):\n",
    "    print(\"🔍 Ask a question about the dataset (or type 'exit'):\")\n",
    "\n",
    "    # Dynamically build schema from df\n",
    "    schema = f\"Table: {table_name}\\nColumns:\\n\"\n",
    "    for col in df.columns:\n",
    "        schema += f\"- {col}\\n\"\n",
    "\n",
    "    # Start interaction loop\n",
    "    while True:\n",
    "        user_input = input(\"\\n🧍 You: \")\n",
    "        if user_input.lower() == \"exit\":\n",
    "            break\n",
    "\n",
    "        # Prompt for SQL\n",
    "        prompt = f\"\"\"\n",
    "        You are a helpful assistant that answers data questions by generating SQL queries.\n",
    "        Here is the table schema:\n",
    "        {schema}\n",
    "        Question: {user_input}\n",
    "        Only respond with a valid SQL query.\n",
    "        \"\"\"\n",
    "        response = client.models.generate_content(\n",
    "            model='gemini-2.0-flash',\n",
    "            config=short_config,\n",
    "            contents=prompt\n",
    "        )\n",
    "        sql = response.text.strip().replace(\"```sql\", \"\").replace(\"```\", \"\").strip()\n",
    "        print(f\"\\n🧾 Cleaned SQL:\\n{sql}\")\n",
    "\n",
    "        try:\n",
    "            result = execute_query(sql)\n",
    "            print(\"\\n📊 Query Results:\")\n",
    "            for row in result:\n",
    "                print(row)\n",
    "\n",
    "            # Explanation\n",
    "            summary_prompt = f\"\"\"\n",
    "            Here is the result of the SQL query:\n",
    "            {result}\n",
    "            Explain this result in plain English for a data analyst.\n",
    "            \"\"\"\n",
    "            summary = client.models.generate_content(\n",
    "                model='gemini-2.0-flash',\n",
    "                config=short_config,\n",
    "                contents=summary_prompt\n",
    "            )\n",
    "            print(f\"\\n🗣️ Summary:\\n{summary.text}\")\n",
    "        except Exception as e:\n",
    "            print(f\"❌ Error: {e}\")\n"
   ]
  },
  {
   "cell_type": "markdown",
   "metadata": {},
   "source": [
    "## 5. 🤖 Agent Mode: Chat with Your Data W kaggle data and input data"
   ]
  },
  {
   "cell_type": "code",
   "execution_count": null,
   "metadata": {
    "execution": {
     "iopub.execute_input": "2025-04-16T21:10:22.689766Z",
     "iopub.status.busy": "2025-04-16T21:10:22.689512Z",
     "iopub.status.idle": "2025-04-16T21:11:27.938542Z",
     "shell.execute_reply": "2025-04-16T21:11:27.937595Z",
     "shell.execute_reply.started": "2025-04-16T21:10:22.689745Z"
    },
    "trusted": true
   },
   "outputs": [],
   "source": [
    "agent_loop(data) "
   ]
  },
  {
   "cell_type": "code",
   "execution_count": null,
   "metadata": {
    "execution": {
     "iopub.execute_input": "2025-04-16T21:11:27.939673Z",
     "iopub.status.busy": "2025-04-16T21:11:27.939417Z",
     "iopub.status.idle": "2025-04-16T21:11:27.945311Z",
     "shell.execute_reply": "2025-04-16T21:11:27.944263Z",
     "shell.execute_reply.started": "2025-04-16T21:11:27.939651Z"
    },
    "trusted": true
   },
   "outputs": [],
   "source": [
    "\"\"\"Uncomment the line below to execute the agent_loop on the user-uploaded dataset.\"\"\"\n",
    "# agent_loop(df, table_name=\"df\")  "
   ]
  }
 ],
 "metadata": {
  "kaggle": {
   "accelerator": "none",
   "dataSources": [
    {
     "datasetId": 7043791,
     "sourceId": 11268405,
     "sourceType": "datasetVersion"
    }
   ],
   "dockerImageVersionId": 31011,
   "isGpuEnabled": false,
   "isInternetEnabled": true,
   "language": "python",
   "sourceType": "notebook"
  },
  "kernelspec": {
   "display_name": "Python 3",
   "language": "python",
   "name": "python3"
  },
  "language_info": {
   "codemirror_mode": {
    "name": "ipython",
    "version": 3
   },
   "file_extension": ".py",
   "mimetype": "text/x-python",
   "name": "python",
   "nbconvert_exporter": "python",
   "pygments_lexer": "ipython3",
   "version": "3.12.2"
  }
 },
 "nbformat": 4,
 "nbformat_minor": 4
}
