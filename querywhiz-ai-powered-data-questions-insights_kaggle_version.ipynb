<<<<<<< HEAD
{
 "cells": [
  {
   "cell_type": "markdown",
   "metadata": {},
   "source": [
    "# 🤖 GenAI for Data Analysis: Ask Questions, Get SQL, Understand Results\n",
    "\n",
    "Welcome! This project demonstrates how to use **Google Gemini AI** to enhance the data analysis process with:\n",
    "- AI-generated **questions and SQL queries**\n",
    "- Natural language **summaries of query results**\n",
    "- Support for **custom CSV uploads** or a built-in **Kaggle dataset**\n",
    "\n",
    "🎯 Goal: Show how GenAI can act like a smart analyst assistant for any dataset.\n"
   ]
  },
  {
   "cell_type": "markdown",
   "metadata": {},
   "source": [
    "# 1. 🔧 Setup: Libraries, API Key, and Imports"
   ]
  },
  {
   "cell_type": "code",
   "execution_count": null,
   "metadata": {
    "execution": {
     "iopub.execute_input": "2025-04-16T21:10:14.916096Z",
     "iopub.status.busy": "2025-04-16T21:10:14.915815Z",
     "iopub.status.idle": "2025-04-16T21:10:16.174000Z",
     "shell.execute_reply": "2025-04-16T21:10:16.173089Z",
     "shell.execute_reply.started": "2025-04-16T21:10:14.916070Z"
    },
    "trusted": true
   },
   "outputs": [],
   "source": [
    "# Gemini + API Setup\n",
    "from google import genai\n",
    "from google.genai import types\n",
    "from kaggle_secrets import UserSecretsClient\n",
    "import warnings"
   ]
  },
  {
   "cell_type": "code",
   "execution_count": null,
   "metadata": {
    "execution": {
     "iopub.execute_input": "2025-04-16T21:10:16.175847Z",
     "iopub.status.busy": "2025-04-16T21:10:16.175473Z",
     "iopub.status.idle": "2025-04-16T21:10:16.461912Z",
     "shell.execute_reply": "2025-04-16T21:10:16.461016Z",
     "shell.execute_reply.started": "2025-04-16T21:10:16.175827Z"
    },
    "trusted": true
   },
   "outputs": [],
   "source": [
    "# For API retry handling\n",
    "from google.api_core import retry"
   ]
  },
  {
   "cell_type": "code",
   "execution_count": null,
   "metadata": {
    "execution": {
     "iopub.execute_input": "2025-04-16T21:10:16.463321Z",
     "iopub.status.busy": "2025-04-16T21:10:16.462834Z",
     "iopub.status.idle": "2025-04-16T21:10:18.582392Z",
     "shell.execute_reply": "2025-04-16T21:10:18.581509Z",
     "shell.execute_reply.started": "2025-04-16T21:10:16.463291Z"
    },
    "trusted": true
   },
   "outputs": [],
   "source": [
    "# Displaying Data\n",
    "import pandas as pd"
   ]
  },
  {
   "cell_type": "code",
   "execution_count": null,
   "metadata": {
    "execution": {
     "iopub.execute_input": "2025-04-16T21:10:18.583871Z",
     "iopub.status.busy": "2025-04-16T21:10:18.583324Z",
     "iopub.status.idle": "2025-04-16T21:10:18.588041Z",
     "shell.execute_reply": "2025-04-16T21:10:18.586976Z",
     "shell.execute_reply.started": "2025-04-16T21:10:18.583841Z"
    },
    "trusted": true
   },
   "outputs": [],
   "source": [
    "# SQLite DB\n",
    "import sqlite3"
   ]
  },
  {
   "cell_type": "code",
   "execution_count": null,
   "metadata": {
    "execution": {
     "iopub.execute_input": "2025-04-16T21:10:18.590742Z",
     "iopub.status.busy": "2025-04-16T21:10:18.590478Z",
     "iopub.status.idle": "2025-04-16T21:10:18.771158Z",
     "shell.execute_reply": "2025-04-16T21:10:18.770381Z",
     "shell.execute_reply.started": "2025-04-16T21:10:18.590715Z"
    },
    "trusted": true
   },
   "outputs": [],
   "source": [
    "# Librairies for the inputed csv:\n",
    "from IPython.display import display\n",
    "import ipywidgets as widgets\n",
    "import io"
   ]
  },
  {
   "cell_type": "code",
   "execution_count": null,
   "metadata": {
    "execution": {
     "iopub.execute_input": "2025-04-16T21:10:18.772121Z",
     "iopub.status.busy": "2025-04-16T21:10:18.771839Z",
     "iopub.status.idle": "2025-04-16T21:10:18.778458Z",
     "shell.execute_reply": "2025-04-16T21:10:18.776861Z",
     "shell.execute_reply.started": "2025-04-16T21:10:18.772095Z"
    },
    "trusted": true
   },
   "outputs": [],
   "source": [
    "# API Error \n",
    "is_retriable = lambda e: (isinstance(e, genai.errors.APIError) and e.code in {429, 503})\n",
    "\n",
    "genai.models.Models.generate_content = retry.Retry(\n",
    "    predicate=is_retriable)(genai.models.Models.generate_content)"
   ]
  },
  {
   "cell_type": "code",
   "execution_count": null,
   "metadata": {
    "execution": {
     "iopub.execute_input": "2025-04-16T21:10:18.781015Z",
     "iopub.status.busy": "2025-04-16T21:10:18.780727Z",
     "iopub.status.idle": "2025-04-16T21:10:18.899152Z",
     "shell.execute_reply": "2025-04-16T21:10:18.898250Z",
     "shell.execute_reply.started": "2025-04-16T21:10:18.780993Z"
    },
    "trusted": true
   },
   "outputs": [],
   "source": [
    "# getting API key\n",
    "GOOGLE_API_KEY = UserSecretsClient().get_secret(\"GOOGLE_API_KEY\")\n",
    "client = genai.Client(api_key=GOOGLE_API_KEY)"
   ]
  },
  {
   "cell_type": "markdown",
   "metadata": {},
   "source": [
    "# 2. 📂 Load a Dataset (Kaggle OR Upload your own CSV)"
   ]
  },
  {
   "cell_type": "markdown",
   "metadata": {},
   "source": [
    "## Loading kaggle data"
   ]
  },
  {
   "cell_type": "code",
   "execution_count": null,
   "metadata": {
    "execution": {
     "iopub.execute_input": "2025-04-16T21:10:18.901272Z",
     "iopub.status.busy": "2025-04-16T21:10:18.900916Z",
     "iopub.status.idle": "2025-04-16T21:10:18.959555Z",
     "shell.execute_reply": "2025-04-16T21:10:18.958661Z",
     "shell.execute_reply.started": "2025-04-16T21:10:18.901243Z"
    },
    "trusted": true
   },
   "outputs": [],
   "source": [
    "# Data Set: \n",
    "data = pd.read_csv('/kaggle/input/amazon-sales-2025/amazon_sales_data 2025.csv')\n",
    "data"
   ]
  },
  {
   "cell_type": "markdown",
   "metadata": {},
   "source": [
    "## Loading input data"
   ]
  },
  {
   "cell_type": "markdown",
   "metadata": {},
   "source": [
    "> 👉 **Tip**: You can upload your own `.csv` file using the widget below. If you skip this step, the notebook will use a default Amazon Sales dataset.\n"
   ]
  },
  {
   "cell_type": "code",
   "execution_count": null,
   "metadata": {
    "execution": {
     "iopub.execute_input": "2025-04-16T21:10:18.961269Z",
     "iopub.status.busy": "2025-04-16T21:10:18.960782Z",
     "iopub.status.idle": "2025-04-16T21:10:18.975164Z",
     "shell.execute_reply": "2025-04-16T21:10:18.974288Z",
     "shell.execute_reply.started": "2025-04-16T21:10:18.961239Z"
    },
    "trusted": true
   },
   "outputs": [],
   "source": [
    "# Upload CSV widget\n",
    "upload = widgets.FileUpload(accept='.csv', multiple=False)\n",
    "display(upload)\n",
    "\n",
    "# Handle upload\n",
    "def handle_upload():\n",
    "    if upload.value:\n",
    "        for filename in upload.value:\n",
    "            content = upload.value[filename]['content']\n",
    "            df = pd.read_csv(io.BytesIO(content))\n",
    "            df.columns = [col.strip().replace(\" \", \"_\") for col in df.columns]\n",
    "            return df\n",
    "    return None  # No file uploaded\n",
    "\n",
    "# Try user upload\n",
    "df = handle_upload()\n",
    "\n",
    "# Fallback if nothing is uploaded\n",
    "if df is None:\n",
    "    print(\"⚠️ No user file uploaded — using default Kaggle dataset instead.\")\n",
    "    df = pd.read_csv('/kaggle/input/amazon-sales-2025/amazon_sales_data 2025.csv')\n",
    "    df.columns = [col.strip().replace(\" \", \"_\") for col in df.columns]\n"
   ]
  },
  {
   "cell_type": "markdown",
   "metadata": {},
   "source": [
    "# 3. 🧠 Ask AI: What Should We Explore?"
   ]
  },
  {
   "cell_type": "markdown",
   "metadata": {},
   "source": [
    "## prompt for the kaggle data set"
   ]
  },
  {
   "cell_type": "code",
   "execution_count": null,
   "metadata": {
    "execution": {
     "iopub.execute_input": "2025-04-16T21:10:18.976344Z",
     "iopub.status.busy": "2025-04-16T21:10:18.976043Z",
     "iopub.status.idle": "2025-04-16T21:10:20.787790Z",
     "shell.execute_reply": "2025-04-16T21:10:20.786775Z",
     "shell.execute_reply.started": "2025-04-16T21:10:18.976318Z"
    },
    "trusted": true
   },
   "outputs": [],
   "source": [
    "# Prompt:\n",
    "sample = data.head(5).to_markdown()  # Only show a small sample in the prompt\n",
    "prompt = f\"\"\"\n",
    "Here is a a few rows of our dataset:\n",
    "\n",
    "{sample}\n",
    "\n",
    "Based on this dataset, what are some useful questions we should ask during further data analysis?\n",
    "\"\"\"\n",
    "\n",
    "short_config = types.GenerateContentConfig(max_output_tokens=200)\n",
    "\n",
    "response = client.models.generate_content(\n",
    "    model='gemini-2.0-flash',\n",
    "    config=short_config,\n",
    "    contents=prompt\n",
    ")\n",
    "print(response.text)"
   ]
  },
  {
   "cell_type": "markdown",
   "metadata": {},
   "source": [
    "## Prompt for the input data"
   ]
  },
  {
   "cell_type": "code",
   "execution_count": null,
   "metadata": {
    "execution": {
     "iopub.execute_input": "2025-04-16T21:10:20.788972Z",
     "iopub.status.busy": "2025-04-16T21:10:20.788668Z",
     "iopub.status.idle": "2025-04-16T21:10:22.501497Z",
     "shell.execute_reply": "2025-04-16T21:10:22.500576Z",
     "shell.execute_reply.started": "2025-04-16T21:10:20.788946Z"
    },
    "trusted": true
   },
   "outputs": [],
   "source": [
    "# Prompt:\n",
    "sample_1 = df.head(5).to_markdown()\n",
    "\n",
    "prompt_1 = f\"\"\"\n",
    "Here is a few rows of our dataset:\n",
    "\n",
    "{sample_1}\n",
    "\n",
    "Based on this dataset, what are some useful questions we should ask during further data analysis?\n",
    "\"\"\"\n",
    "\n",
    "response = client.models.generate_content(\n",
    "    model='gemini-2.0-flash',\n",
    "    config=short_config,\n",
    "    contents=prompt_1\n",
    ")\n",
    "\n",
    "print(response.text)\n"
   ]
  },
  {
   "cell_type": "markdown",
   "metadata": {},
   "source": [
    "# 4. 🧾 Generate & Run SQL Queries from Natural Language"
   ]
  },
  {
   "cell_type": "code",
   "execution_count": null,
   "metadata": {
    "execution": {
     "iopub.execute_input": "2025-04-16T21:10:22.502751Z",
     "iopub.status.busy": "2025-04-16T21:10:22.502428Z",
     "iopub.status.idle": "2025-04-16T21:10:22.507923Z",
     "shell.execute_reply": "2025-04-16T21:10:22.506712Z",
     "shell.execute_reply.started": "2025-04-16T21:10:22.502724Z"
    },
    "trusted": true
   },
   "outputs": [],
   "source": [
    "# description function for both kaggle and user inputed csv:\n",
    "def describe_table(table_name: str):\n",
    "    cursor = db_conn.cursor()\n",
    "    cursor.execute(f\"PRAGMA table_info({table_name});\")\n",
    "    return [(col[1], col[2]) for col in cursor.fetchall()]"
   ]
  },
  {
   "cell_type": "code",
   "execution_count": null,
   "metadata": {
    "execution": {
     "iopub.execute_input": "2025-04-16T21:10:22.509261Z",
     "iopub.status.busy": "2025-04-16T21:10:22.508979Z",
     "iopub.status.idle": "2025-04-16T21:10:22.526851Z",
     "shell.execute_reply": "2025-04-16T21:10:22.525870Z",
     "shell.execute_reply.started": "2025-04-16T21:10:22.509236Z"
    },
    "trusted": true
   },
   "outputs": [],
   "source": [
    "# Query function for both kaggle and user inputed csv: \n",
    "def execute_query(sql: str) -> list[list[str]]:\n",
    "    \"\"\"Execute an SQL statement, returning the results.\"\"\"\n",
    "    print(f' - DB CALL: execute_query({sql})')\n",
    "\n",
    "    cursor = db_conn.cursor()\n",
    "\n",
    "    cursor.execute(sql)\n",
    "    return cursor.fetchall()"
   ]
  },
  {
   "cell_type": "markdown",
   "metadata": {},
   "source": [
    "## running SQL Queries for the kaggle data set"
   ]
  },
  {
   "cell_type": "code",
   "execution_count": null,
   "metadata": {
    "execution": {
     "iopub.execute_input": "2025-04-16T21:10:22.530106Z",
     "iopub.status.busy": "2025-04-16T21:10:22.529773Z",
     "iopub.status.idle": "2025-04-16T21:10:22.575504Z",
     "shell.execute_reply": "2025-04-16T21:10:22.574592Z",
     "shell.execute_reply.started": "2025-04-16T21:10:22.530084Z"
    },
    "trusted": true
   },
   "outputs": [],
   "source": [
    "# Using sqlite3 to create the database\n",
    "data.columns = [col.strip().replace(\" \", \"_\") for col in data.columns]  # Clean column names\n",
    "\n",
    "db_conn = sqlite3.connect(\"sample.db\")\n",
    "data.to_sql(\"data\", db_conn, if_exists=\"replace\", index=False)\n"
   ]
  },
  {
   "cell_type": "code",
   "execution_count": null,
   "metadata": {
    "execution": {
     "iopub.execute_input": "2025-04-16T21:10:22.576816Z",
     "iopub.status.busy": "2025-04-16T21:10:22.576483Z",
     "iopub.status.idle": "2025-04-16T21:10:22.584683Z",
     "shell.execute_reply": "2025-04-16T21:10:22.583773Z",
     "shell.execute_reply.started": "2025-04-16T21:10:22.576788Z"
    },
    "trusted": true
   },
   "outputs": [],
   "source": [
    "describe_table(\"data\")"
   ]
  },
  {
   "cell_type": "code",
   "execution_count": null,
   "metadata": {
    "execution": {
     "iopub.execute_input": "2025-04-16T21:10:22.586122Z",
     "iopub.status.busy": "2025-04-16T21:10:22.585816Z",
     "iopub.status.idle": "2025-04-16T21:10:22.605012Z",
     "shell.execute_reply": "2025-04-16T21:10:22.604245Z",
     "shell.execute_reply.started": "2025-04-16T21:10:22.586100Z"
    },
    "trusted": true
   },
   "outputs": [],
   "source": [
    "execute_query(\"select * from data where Category == 'Footwear'\")"
   ]
  },
  {
   "cell_type": "markdown",
   "metadata": {},
   "source": [
    "## Running SQL Queries from the input data"
   ]
  },
  {
   "cell_type": "code",
   "execution_count": null,
   "metadata": {
    "execution": {
     "iopub.execute_input": "2025-04-16T21:10:22.606127Z",
     "iopub.status.busy": "2025-04-16T21:10:22.605888Z",
     "iopub.status.idle": "2025-04-16T21:10:22.641924Z",
     "shell.execute_reply": "2025-04-16T21:10:22.641124Z",
     "shell.execute_reply.started": "2025-04-16T21:10:22.606107Z"
    },
    "trusted": true
   },
   "outputs": [],
   "source": [
    "# 🛢️ Save uploaded data to SQLite\n",
    "db_conn = sqlite3.connect(\"sample_1.db\")\n",
    "df.to_sql(\"df\", db_conn, if_exists=\"replace\", index=False)"
   ]
  },
  {
   "cell_type": "code",
   "execution_count": null,
   "metadata": {
    "execution": {
     "iopub.execute_input": "2025-04-16T21:10:22.643137Z",
     "iopub.status.busy": "2025-04-16T21:10:22.642841Z",
     "iopub.status.idle": "2025-04-16T21:10:22.650232Z",
     "shell.execute_reply": "2025-04-16T21:10:22.649167Z",
     "shell.execute_reply.started": "2025-04-16T21:10:22.643113Z"
    },
    "trusted": true
   },
   "outputs": [],
   "source": [
    "describe_table(\"df\")"
   ]
  },
  {
   "cell_type": "code",
   "execution_count": null,
   "metadata": {
    "execution": {
     "iopub.execute_input": "2025-04-16T21:10:22.651503Z",
     "iopub.status.busy": "2025-04-16T21:10:22.651244Z",
     "iopub.status.idle": "2025-04-16T21:10:22.669030Z",
     "shell.execute_reply": "2025-04-16T21:10:22.668057Z",
     "shell.execute_reply.started": "2025-04-16T21:10:22.651478Z"
    },
    "trusted": true
   },
   "outputs": [],
   "source": [
    "\"\"\"Uncomment the line below to execute a query on the user-uploaded dataset.\"\"\"\n",
    "# execute_query()"
   ]
  },
  {
   "cell_type": "markdown",
   "metadata": {},
   "source": [
    "# 5. Agents"
   ]
  },
  {
   "cell_type": "code",
   "execution_count": null,
   "metadata": {
    "execution": {
     "iopub.execute_input": "2025-04-16T21:10:22.670433Z",
     "iopub.status.busy": "2025-04-16T21:10:22.670087Z",
     "iopub.status.idle": "2025-04-16T21:10:22.688730Z",
     "shell.execute_reply": "2025-04-16T21:10:22.687909Z",
     "shell.execute_reply.started": "2025-04-16T21:10:22.670405Z"
    },
    "trusted": true
   },
   "outputs": [],
   "source": [
    "# Agents function for both kaggle and user inputed csv:\n",
    "def agent_loop(df, table_name=\"data\"):\n",
    "    print(\"🔍 Ask a question about the dataset (or type 'exit'):\")\n",
    "\n",
    "    # Dynamically build schema from df\n",
    "    schema = f\"Table: {table_name}\\nColumns:\\n\"\n",
    "    for col in df.columns:\n",
    "        schema += f\"- {col}\\n\"\n",
    "\n",
    "    # Start interaction loop\n",
    "    while True:\n",
    "        user_input = input(\"\\n🧍 You: \")\n",
    "        if user_input.lower() == \"exit\":\n",
    "            break\n",
    "\n",
    "        # Prompt for SQL\n",
    "        prompt = f\"\"\"\n",
    "        You are a helpful assistant that answers data questions by generating SQL queries.\n",
    "        Here is the table schema:\n",
    "        {schema}\n",
    "        Question: {user_input}\n",
    "        Only respond with a valid SQL query.\n",
    "        \"\"\"\n",
    "        response = client.models.generate_content(\n",
    "            model='gemini-2.0-flash',\n",
    "            config=short_config,\n",
    "            contents=prompt\n",
    "        )\n",
    "        sql = response.text.strip().replace(\"```sql\", \"\").replace(\"```\", \"\").strip()\n",
    "        print(f\"\\n🧾 Cleaned SQL:\\n{sql}\")\n",
    "\n",
    "        try:\n",
    "            result = execute_query(sql)\n",
    "            print(\"\\n📊 Query Results:\")\n",
    "            for row in result:\n",
    "                print(row)\n",
    "\n",
    "            # Explanation\n",
    "            summary_prompt = f\"\"\"\n",
    "            Here is the result of the SQL query:\n",
    "            {result}\n",
    "            Explain this result in plain English for a data analyst.\n",
    "            \"\"\"\n",
    "            summary = client.models.generate_content(\n",
    "                model='gemini-2.0-flash',\n",
    "                config=short_config,\n",
    "                contents=summary_prompt\n",
    "            )\n",
    "            print(f\"\\n🗣️ Summary:\\n{summary.text}\")\n",
    "        except Exception as e:\n",
    "            print(f\"❌ Error: {e}\")\n"
   ]
  },
  {
   "cell_type": "markdown",
   "metadata": {},
   "source": [
    "## 5. 🤖 Agent Mode: Chat with Your Data W kaggle data and input data"
   ]
  },
  {
   "cell_type": "code",
   "execution_count": null,
   "metadata": {
    "execution": {
     "iopub.execute_input": "2025-04-16T21:10:22.689766Z",
     "iopub.status.busy": "2025-04-16T21:10:22.689512Z",
     "iopub.status.idle": "2025-04-16T21:11:27.938542Z",
     "shell.execute_reply": "2025-04-16T21:11:27.937595Z",
     "shell.execute_reply.started": "2025-04-16T21:10:22.689745Z"
    },
    "trusted": true
   },
   "outputs": [],
   "source": [
    "agent_loop(data) "
   ]
  },
  {
   "cell_type": "code",
   "execution_count": null,
   "metadata": {
    "execution": {
     "iopub.execute_input": "2025-04-16T21:11:27.939673Z",
     "iopub.status.busy": "2025-04-16T21:11:27.939417Z",
     "iopub.status.idle": "2025-04-16T21:11:27.945311Z",
     "shell.execute_reply": "2025-04-16T21:11:27.944263Z",
     "shell.execute_reply.started": "2025-04-16T21:11:27.939651Z"
    },
    "trusted": true
   },
   "outputs": [],
   "source": [
    "\"\"\"Uncomment the line below to execute the agent_loop on the user-uploaded dataset.\"\"\"\n",
    "# agent_loop(df, table_name=\"df\")  "
   ]
  }
 ],
 "metadata": {
  "kaggle": {
   "accelerator": "none",
   "dataSources": [
    {
     "datasetId": 7043791,
     "sourceId": 11268405,
     "sourceType": "datasetVersion"
    }
   ],
   "dockerImageVersionId": 31011,
   "isGpuEnabled": false,
   "isInternetEnabled": true,
   "language": "python",
   "sourceType": "notebook"
  },
  "kernelspec": {
   "display_name": "Python 3",
   "language": "python",
   "name": "python3"
  },
  "language_info": {
   "codemirror_mode": {
    "name": "ipython",
    "version": 3
   },
   "file_extension": ".py",
   "mimetype": "text/x-python",
   "name": "python",
   "nbconvert_exporter": "python",
   "pygments_lexer": "ipython3",
   "version": "3.12.2"
  }
 },
 "nbformat": 4,
 "nbformat_minor": 4
}
=======
{"metadata":{"kernelspec":{"language":"python","display_name":"Python 3","name":"python3"},"language_info":{"name":"python","version":"3.11.11","mimetype":"text/x-python","codemirror_mode":{"name":"ipython","version":3},"pygments_lexer":"ipython3","nbconvert_exporter":"python","file_extension":".py"},"kaggle":{"accelerator":"none","dataSources":[{"sourceId":11268405,"sourceType":"datasetVersion","datasetId":7043791}],"dockerImageVersionId":31011,"isInternetEnabled":true,"language":"python","sourceType":"notebook","isGpuEnabled":false}},"nbformat_minor":4,"nbformat":4,"cells":[{"source":"<a href=\"https://www.kaggle.com/code/yanelly/querywhiz-ai-powered-data-questions-insights?scriptVersionId=235337519\" target=\"_blank\"><img align=\"left\" alt=\"Kaggle\" title=\"Open in Kaggle\" src=\"https://kaggle.com/static/images/open-in-kaggle.svg\"></a>","metadata":{},"cell_type":"markdown"},{"cell_type":"markdown","source":"# 🤖 GenAI for Data Analysis: Ask Questions, Get SQL, Understand Results\n\nWelcome! This project demonstrates how to use **Google Gemini AI** to enhance the data analysis process with:\n- AI-generated **questions and SQL queries**\n- Natural language **summaries of query results**\n- Support for **custom CSV uploads** or a built-in **Kaggle dataset**\n\n🎯 Goal: Show how GenAI can act like a smart analyst assistant for any dataset.\n","metadata":{}},{"cell_type":"markdown","source":"# 1. 🔧 Setup: Libraries, API Key, and Imports","metadata":{}},{"cell_type":"code","source":"# Gemini + API Setup\nfrom google import genai\nfrom google.genai import types\nfrom kaggle_secrets import UserSecretsClient\nimport warnings","metadata":{"trusted":true,"execution":{"iopub.status.busy":"2025-04-22T01:44:49.499212Z","iopub.execute_input":"2025-04-22T01:44:49.499559Z","iopub.status.idle":"2025-04-22T01:44:50.161377Z","shell.execute_reply.started":"2025-04-22T01:44:49.499533Z","shell.execute_reply":"2025-04-22T01:44:50.160416Z"}},"outputs":[{"name":"stderr","text":"/usr/local/lib/python3.11/dist-packages/pydantic/_internal/_generate_schema.py:623: UserWarning: <built-in function any> is not a Python type (it may be an instance of an object), Pydantic will allow any object with no validation since we cannot even enforce that the input is an instance of the given type. To get rid of this error wrap the type with `pydantic.SkipValidation`.\n  warn(\n","output_type":"stream"}],"execution_count":1},{"cell_type":"code","source":"# For API retry handling\nfrom google.api_core import retry","metadata":{"trusted":true,"execution":{"iopub.status.busy":"2025-04-22T01:44:50.162854Z","iopub.execute_input":"2025-04-22T01:44:50.163397Z","iopub.status.idle":"2025-04-22T01:44:50.222729Z","shell.execute_reply.started":"2025-04-22T01:44:50.163365Z","shell.execute_reply":"2025-04-22T01:44:50.22185Z"}},"outputs":[],"execution_count":2},{"cell_type":"code","source":"# Displaying Data\nimport pandas as pd","metadata":{"trusted":true,"execution":{"iopub.status.busy":"2025-04-22T01:44:50.223614Z","iopub.execute_input":"2025-04-22T01:44:50.224117Z","iopub.status.idle":"2025-04-22T01:44:50.634528Z","shell.execute_reply.started":"2025-04-22T01:44:50.224084Z","shell.execute_reply":"2025-04-22T01:44:50.633638Z"}},"outputs":[],"execution_count":3},{"cell_type":"code","source":"# SQLite DB\nimport sqlite3","metadata":{"trusted":true,"execution":{"iopub.status.busy":"2025-04-22T01:44:50.636538Z","iopub.execute_input":"2025-04-22T01:44:50.637066Z","iopub.status.idle":"2025-04-22T01:44:50.641076Z","shell.execute_reply.started":"2025-04-22T01:44:50.637041Z","shell.execute_reply":"2025-04-22T01:44:50.640185Z"}},"outputs":[],"execution_count":4},{"cell_type":"code","source":"# Librairies for the inputed csv:\nfrom IPython.display import display\nimport ipywidgets as widgets\nimport io","metadata":{"trusted":true,"execution":{"iopub.status.busy":"2025-04-22T01:44:50.642253Z","iopub.execute_input":"2025-04-22T01:44:50.642577Z","iopub.status.idle":"2025-04-22T01:44:50.728983Z","shell.execute_reply.started":"2025-04-22T01:44:50.642548Z","shell.execute_reply":"2025-04-22T01:44:50.728272Z"}},"outputs":[],"execution_count":5},{"cell_type":"code","source":"# API Error \nis_retriable = lambda e: (isinstance(e, genai.errors.APIError) and e.code in {429, 503})\n\ngenai.models.Models.generate_content = retry.Retry(\n    predicate=is_retriable)(genai.models.Models.generate_content)","metadata":{"trusted":true,"execution":{"iopub.status.busy":"2025-04-22T01:44:50.729821Z","iopub.execute_input":"2025-04-22T01:44:50.730102Z","iopub.status.idle":"2025-04-22T01:44:50.735325Z","shell.execute_reply.started":"2025-04-22T01:44:50.730081Z","shell.execute_reply":"2025-04-22T01:44:50.734341Z"}},"outputs":[],"execution_count":6},{"cell_type":"code","source":"# getting API key\nGOOGLE_API_KEY = UserSecretsClient().get_secret(\"GOOGLE_API_KEY\")\nclient = genai.Client(api_key=GOOGLE_API_KEY)","metadata":{"trusted":true,"execution":{"iopub.status.busy":"2025-04-22T01:44:50.73614Z","iopub.execute_input":"2025-04-22T01:44:50.736394Z","iopub.status.idle":"2025-04-22T01:44:50.883427Z","shell.execute_reply.started":"2025-04-22T01:44:50.736367Z","shell.execute_reply":"2025-04-22T01:44:50.882581Z"}},"outputs":[],"execution_count":7},{"cell_type":"markdown","source":"# 2. 📂 Load a Dataset (Kaggle OR Upload your own CSV)","metadata":{}},{"cell_type":"markdown","source":"## Loading kaggle data","metadata":{}},{"cell_type":"code","source":"# Data Set: \ndata = pd.read_csv('/kaggle/input/amazon-sales-2025/amazon_sales_data 2025.csv')\ndata","metadata":{"trusted":true,"execution":{"iopub.status.busy":"2025-04-22T01:44:50.884205Z","iopub.execute_input":"2025-04-22T01:44:50.884428Z","iopub.status.idle":"2025-04-22T01:44:50.927454Z","shell.execute_reply.started":"2025-04-22T01:44:50.884409Z","shell.execute_reply":"2025-04-22T01:44:50.926695Z"}},"outputs":[{"execution_count":8,"output_type":"execute_result","data":{"text/plain":"    Order ID      Date        Product     Category  Price  Quantity  \\\n0    ORD0001  14-03-25  Running Shoes     Footwear     60         3   \n1    ORD0002  20-03-25     Headphones  Electronics    100         4   \n2    ORD0003  15-02-25  Running Shoes     Footwear     60         2   \n3    ORD0004  19-02-25  Running Shoes     Footwear     60         3   \n4    ORD0005  10-03-25     Smartwatch  Electronics    150         3   \n..       ...       ...            ...          ...    ...       ...   \n245  ORD0246  17-03-25        T-Shirt     Clothing     20         2   \n246  ORD0247  30-03-25          Jeans     Clothing     40         1   \n247  ORD0248  05-03-25        T-Shirt     Clothing     20         2   \n248  ORD0249  08-03-25     Smartwatch  Electronics    150         3   \n249  ORD0250  19-02-25     Smartphone  Electronics    500         4   \n\n     Total Sales  Customer Name Customer Location Payment Method     Status  \n0            180     Emma Clark          New York     Debit Card  Cancelled  \n1            400  Emily Johnson     San Francisco     Debit Card    Pending  \n2            120       John Doe            Denver     Amazon Pay  Cancelled  \n3            180  Olivia Wilson            Dallas    Credit Card    Pending  \n4            450     Emma Clark          New York     Debit Card    Pending  \n..           ...            ...               ...            ...        ...  \n245           40  Daniel Harris             Miami     Debit Card  Cancelled  \n246           40  Sophia Miller            Dallas     Debit Card  Cancelled  \n247           40    Chris White            Denver     Debit Card  Cancelled  \n248          450  Emily Johnson          New York     Debit Card  Cancelled  \n249         2000  Emily Johnson           Seattle     Amazon Pay  Completed  \n\n[250 rows x 11 columns]","text/html":"<div>\n<style scoped>\n    .dataframe tbody tr th:only-of-type {\n        vertical-align: middle;\n    }\n\n    .dataframe tbody tr th {\n        vertical-align: top;\n    }\n\n    .dataframe thead th {\n        text-align: right;\n    }\n</style>\n<table border=\"1\" class=\"dataframe\">\n  <thead>\n    <tr style=\"text-align: right;\">\n      <th></th>\n      <th>Order ID</th>\n      <th>Date</th>\n      <th>Product</th>\n      <th>Category</th>\n      <th>Price</th>\n      <th>Quantity</th>\n      <th>Total Sales</th>\n      <th>Customer Name</th>\n      <th>Customer Location</th>\n      <th>Payment Method</th>\n      <th>Status</th>\n    </tr>\n  </thead>\n  <tbody>\n    <tr>\n      <th>0</th>\n      <td>ORD0001</td>\n      <td>14-03-25</td>\n      <td>Running Shoes</td>\n      <td>Footwear</td>\n      <td>60</td>\n      <td>3</td>\n      <td>180</td>\n      <td>Emma Clark</td>\n      <td>New York</td>\n      <td>Debit Card</td>\n      <td>Cancelled</td>\n    </tr>\n    <tr>\n      <th>1</th>\n      <td>ORD0002</td>\n      <td>20-03-25</td>\n      <td>Headphones</td>\n      <td>Electronics</td>\n      <td>100</td>\n      <td>4</td>\n      <td>400</td>\n      <td>Emily Johnson</td>\n      <td>San Francisco</td>\n      <td>Debit Card</td>\n      <td>Pending</td>\n    </tr>\n    <tr>\n      <th>2</th>\n      <td>ORD0003</td>\n      <td>15-02-25</td>\n      <td>Running Shoes</td>\n      <td>Footwear</td>\n      <td>60</td>\n      <td>2</td>\n      <td>120</td>\n      <td>John Doe</td>\n      <td>Denver</td>\n      <td>Amazon Pay</td>\n      <td>Cancelled</td>\n    </tr>\n    <tr>\n      <th>3</th>\n      <td>ORD0004</td>\n      <td>19-02-25</td>\n      <td>Running Shoes</td>\n      <td>Footwear</td>\n      <td>60</td>\n      <td>3</td>\n      <td>180</td>\n      <td>Olivia Wilson</td>\n      <td>Dallas</td>\n      <td>Credit Card</td>\n      <td>Pending</td>\n    </tr>\n    <tr>\n      <th>4</th>\n      <td>ORD0005</td>\n      <td>10-03-25</td>\n      <td>Smartwatch</td>\n      <td>Electronics</td>\n      <td>150</td>\n      <td>3</td>\n      <td>450</td>\n      <td>Emma Clark</td>\n      <td>New York</td>\n      <td>Debit Card</td>\n      <td>Pending</td>\n    </tr>\n    <tr>\n      <th>...</th>\n      <td>...</td>\n      <td>...</td>\n      <td>...</td>\n      <td>...</td>\n      <td>...</td>\n      <td>...</td>\n      <td>...</td>\n      <td>...</td>\n      <td>...</td>\n      <td>...</td>\n      <td>...</td>\n    </tr>\n    <tr>\n      <th>245</th>\n      <td>ORD0246</td>\n      <td>17-03-25</td>\n      <td>T-Shirt</td>\n      <td>Clothing</td>\n      <td>20</td>\n      <td>2</td>\n      <td>40</td>\n      <td>Daniel Harris</td>\n      <td>Miami</td>\n      <td>Debit Card</td>\n      <td>Cancelled</td>\n    </tr>\n    <tr>\n      <th>246</th>\n      <td>ORD0247</td>\n      <td>30-03-25</td>\n      <td>Jeans</td>\n      <td>Clothing</td>\n      <td>40</td>\n      <td>1</td>\n      <td>40</td>\n      <td>Sophia Miller</td>\n      <td>Dallas</td>\n      <td>Debit Card</td>\n      <td>Cancelled</td>\n    </tr>\n    <tr>\n      <th>247</th>\n      <td>ORD0248</td>\n      <td>05-03-25</td>\n      <td>T-Shirt</td>\n      <td>Clothing</td>\n      <td>20</td>\n      <td>2</td>\n      <td>40</td>\n      <td>Chris White</td>\n      <td>Denver</td>\n      <td>Debit Card</td>\n      <td>Cancelled</td>\n    </tr>\n    <tr>\n      <th>248</th>\n      <td>ORD0249</td>\n      <td>08-03-25</td>\n      <td>Smartwatch</td>\n      <td>Electronics</td>\n      <td>150</td>\n      <td>3</td>\n      <td>450</td>\n      <td>Emily Johnson</td>\n      <td>New York</td>\n      <td>Debit Card</td>\n      <td>Cancelled</td>\n    </tr>\n    <tr>\n      <th>249</th>\n      <td>ORD0250</td>\n      <td>19-02-25</td>\n      <td>Smartphone</td>\n      <td>Electronics</td>\n      <td>500</td>\n      <td>4</td>\n      <td>2000</td>\n      <td>Emily Johnson</td>\n      <td>Seattle</td>\n      <td>Amazon Pay</td>\n      <td>Completed</td>\n    </tr>\n  </tbody>\n</table>\n<p>250 rows × 11 columns</p>\n</div>"},"metadata":{}}],"execution_count":8},{"cell_type":"markdown","source":"## Loading input data","metadata":{}},{"cell_type":"markdown","source":"> 👉 **Tip**: You can upload your own `.csv` file using the widget below. If you skip this step, the notebook will use a default Amazon Sales dataset.\n","metadata":{}},{"cell_type":"code","source":"# Upload CSV widget\nupload = widgets.FileUpload(accept='.csv', multiple=False)\ndisplay(upload)\n\n# Handle upload\ndef handle_upload():\n    if upload.value:\n        for filename in upload.value:\n            content = upload.value[filename]['content']\n            df = pd.read_csv(io.BytesIO(content))\n            df.columns = [col.strip().replace(\" \", \"_\") for col in df.columns]\n            return df\n    return None  # No file uploaded\n\n# Try user upload\ndf = handle_upload()\n\n# Fallback if nothing is uploaded\nif df is None:\n    print(\"⚠️ No user file uploaded — using default Kaggle dataset instead.\")\n    df = pd.read_csv('/kaggle/input/amazon-sales-2025/amazon_sales_data 2025.csv')\n    df.columns = [col.strip().replace(\" \", \"_\") for col in df.columns]\n","metadata":{"trusted":true,"execution":{"iopub.status.busy":"2025-04-22T01:44:50.928337Z","iopub.execute_input":"2025-04-22T01:44:50.928573Z","iopub.status.idle":"2025-04-22T01:44:50.943195Z","shell.execute_reply.started":"2025-04-22T01:44:50.928554Z","shell.execute_reply":"2025-04-22T01:44:50.942217Z"}},"outputs":[{"output_type":"display_data","data":{"text/plain":"FileUpload(value=(), accept='.csv', description='Upload')","application/vnd.jupyter.widget-view+json":{"version_major":2,"version_minor":0,"model_id":"75f7c49fa7464920aab11cda3e1d30d3"}},"metadata":{}},{"name":"stdout","text":"⚠️ No user file uploaded — using default Kaggle dataset instead.\n","output_type":"stream"}],"execution_count":9},{"cell_type":"markdown","source":"# 3. 🧠 Ask AI: What Should We Explore?","metadata":{}},{"cell_type":"markdown","source":"## prompt for the kaggle data set","metadata":{}},{"cell_type":"code","source":"# Prompt:\nsample = data.head(5).to_markdown()  # Only show a small sample in the prompt\nprompt = f\"\"\"\nHere is a a few rows of our dataset:\n\n{sample}\n\nBased on this dataset, what are some useful questions we should ask during further data analysis?\n\"\"\"\n\nshort_config = types.GenerateContentConfig(max_output_tokens=200)\n\nresponse = client.models.generate_content(\n    model='gemini-2.0-flash',\n    config=short_config,\n    contents=prompt\n)\nprint(response.text)","metadata":{"trusted":true,"execution":{"iopub.status.busy":"2025-04-22T01:44:50.945697Z","iopub.execute_input":"2025-04-22T01:44:50.946013Z","iopub.status.idle":"2025-04-22T01:44:52.536815Z","shell.execute_reply.started":"2025-04-22T01:44:50.945984Z","shell.execute_reply":"2025-04-22T01:44:52.535988Z"}},"outputs":[{"name":"stdout","text":"Okay, based on the dataset you provided, here are some useful questions to ask during further data analysis, grouped by category:\n\n**I. Sales Performance & Trends:**\n\n*   **Overall Sales:**\n    *   What is the total revenue generated?\n    *   What is the average order value?\n    *   What is the distribution of order values?\n    *   How many orders were placed in total?\n\n*   **Temporal Analysis:**\n    *   What are the sales trends over time (e.g., daily, weekly, monthly)? Are there any seasonal patterns?\n    *   Are there specific dates or periods with significantly higher or lower sales?\n    *   How has the average order quantity changed over time?\n\n*   **Product Performance:**\n    *   Which products are the top sellers (by revenue and quantity)?\n    *   Which products have the lowest sales?\n    *   What is the average quantity sold per product?\n","output_type":"stream"}],"execution_count":10},{"cell_type":"markdown","source":"## Prompt for the input data","metadata":{}},{"cell_type":"code","source":"# Prompt:\nsample_1 = df.head(5).to_markdown()\n\nprompt_1 = f\"\"\"\nHere is a few rows of our dataset:\n\n{sample_1}\n\nBased on this dataset, what are some useful questions we should ask during further data analysis?\n\"\"\"\n\nresponse = client.models.generate_content(\n    model='gemini-2.0-flash',\n    config=short_config,\n    contents=prompt_1\n)\n\nprint(response.text)\n","metadata":{"trusted":true,"execution":{"iopub.status.busy":"2025-04-22T01:44:52.537662Z","iopub.execute_input":"2025-04-22T01:44:52.537883Z","iopub.status.idle":"2025-04-22T01:44:54.228592Z","shell.execute_reply.started":"2025-04-22T01:44:52.537866Z","shell.execute_reply":"2025-04-22T01:44:54.227665Z"}},"outputs":[{"name":"stdout","text":"Okay, based on the provided sample data, here's a breakdown of useful questions to explore during further data analysis, categorized for clarity:\n\n**1. Sales Performance & Trends:**\n\n*   **Overall Sales:**\n    *   What is the total revenue generated?\n    *   What is the average order value?\n    *   What is the distribution of order sizes (quantities)?\n    *   How do sales trends change over time (if we have a larger date range)?  (e.g., are there seasonal peaks/dips?)\n*   **Product Performance:**\n    *   Which product is the top seller (by quantity and revenue)?\n    *   Which product categories are most popular?\n    *   What is the average quantity sold per product?\n    *   Are there products frequently purchased together? (basket analysis)\n*   **Customer Analysis:**\n    *   What is the average order value per customer?\n    *\n","output_type":"stream"}],"execution_count":11},{"cell_type":"markdown","source":"# 4. 🧾 Generate & Run SQL Queries from Natural Language","metadata":{}},{"cell_type":"code","source":"# description function for both kaggle and user inputed csv:\ndef describe_table(conn, table_name: str):\n    cursor = conn.cursor()\n    cursor.execute(f\"PRAGMA table_info({table_name});\")\n    return [(col[1], col[2]) for col in cursor.fetchall()]","metadata":{"trusted":true,"execution":{"iopub.status.busy":"2025-04-22T01:44:54.229466Z","iopub.execute_input":"2025-04-22T01:44:54.229763Z","iopub.status.idle":"2025-04-22T01:44:54.234847Z","shell.execute_reply.started":"2025-04-22T01:44:54.229737Z","shell.execute_reply":"2025-04-22T01:44:54.234111Z"}},"outputs":[],"execution_count":12},{"cell_type":"code","source":"# Query function for both kaggle and user inputed csv: \ndef execute_query(conn, sql: str) -> list[list[str]]:\n    print(f' - DB CALL: execute_query({sql})')\n    cursor = conn.cursor()\n    cursor.execute(sql)\n    return cursor.fetchall()","metadata":{"trusted":true,"execution":{"iopub.status.busy":"2025-04-22T01:44:54.235641Z","iopub.execute_input":"2025-04-22T01:44:54.235857Z","iopub.status.idle":"2025-04-22T01:44:54.254779Z","shell.execute_reply.started":"2025-04-22T01:44:54.235836Z","shell.execute_reply":"2025-04-22T01:44:54.253888Z"}},"outputs":[],"execution_count":13},{"cell_type":"markdown","source":"## running SQL Queries for the kaggle data set","metadata":{}},{"cell_type":"code","source":"# Using sqlite3 to create the database\nkaggle_conn = sqlite3.connect(\"sample.db\")\ndata.columns = [col.strip().replace(\" \", \"_\") for col in data.columns]\ndata.to_sql(\"data\", kaggle_conn, if_exists=\"replace\", index=False)","metadata":{"trusted":true,"execution":{"iopub.status.busy":"2025-04-22T01:44:54.255519Z","iopub.execute_input":"2025-04-22T01:44:54.255829Z","iopub.status.idle":"2025-04-22T01:44:54.315742Z","shell.execute_reply.started":"2025-04-22T01:44:54.255803Z","shell.execute_reply":"2025-04-22T01:44:54.314968Z"}},"outputs":[{"execution_count":14,"output_type":"execute_result","data":{"text/plain":"250"},"metadata":{}}],"execution_count":14},{"cell_type":"code","source":"describe_table(kaggle_conn, \"data\")","metadata":{"trusted":true,"execution":{"iopub.status.busy":"2025-04-22T01:44:54.316571Z","iopub.execute_input":"2025-04-22T01:44:54.31688Z","iopub.status.idle":"2025-04-22T01:44:54.323717Z","shell.execute_reply.started":"2025-04-22T01:44:54.316851Z","shell.execute_reply":"2025-04-22T01:44:54.322882Z"}},"outputs":[{"execution_count":15,"output_type":"execute_result","data":{"text/plain":"[('Order_ID', 'TEXT'),\n ('Date', 'TEXT'),\n ('Product', 'TEXT'),\n ('Category', 'TEXT'),\n ('Price', 'INTEGER'),\n ('Quantity', 'INTEGER'),\n ('Total_Sales', 'INTEGER'),\n ('Customer_Name', 'TEXT'),\n ('Customer_Location', 'TEXT'),\n ('Payment_Method', 'TEXT'),\n ('Status', 'TEXT')]"},"metadata":{}}],"execution_count":15},{"cell_type":"code","source":"execute_query(kaggle_conn,\"select * from data where Category == 'Footwear'\")","metadata":{"trusted":true,"execution":{"iopub.status.busy":"2025-04-22T01:44:54.324432Z","iopub.execute_input":"2025-04-22T01:44:54.324656Z","iopub.status.idle":"2025-04-22T01:44:54.346168Z","shell.execute_reply.started":"2025-04-22T01:44:54.324612Z","shell.execute_reply":"2025-04-22T01:44:54.345327Z"}},"outputs":[{"name":"stdout","text":" - DB CALL: execute_query(select * from data where Category == 'Footwear')\n","output_type":"stream"},{"execution_count":16,"output_type":"execute_result","data":{"text/plain":"[('ORD0001',\n  '14-03-25',\n  'Running Shoes',\n  'Footwear',\n  60,\n  3,\n  180,\n  'Emma Clark',\n  'New York',\n  'Debit Card',\n  'Cancelled'),\n ('ORD0003',\n  '15-02-25',\n  'Running Shoes',\n  'Footwear',\n  60,\n  2,\n  120,\n  'John Doe',\n  'Denver',\n  'Amazon Pay',\n  'Cancelled'),\n ('ORD0004',\n  '19-02-25',\n  'Running Shoes',\n  'Footwear',\n  60,\n  3,\n  180,\n  'Olivia Wilson',\n  'Dallas',\n  'Credit Card',\n  'Pending'),\n ('ORD0019',\n  '22-03-25',\n  'Running Shoes',\n  'Footwear',\n  60,\n  3,\n  180,\n  'Olivia Wilson',\n  'Houston',\n  'Credit Card',\n  'Completed'),\n ('ORD0046',\n  '06-03-25',\n  'Running Shoes',\n  'Footwear',\n  60,\n  2,\n  120,\n  'David Lee',\n  'Houston',\n  'Debit Card',\n  'Cancelled'),\n ('ORD0053',\n  '24-03-25',\n  'Running Shoes',\n  'Footwear',\n  60,\n  4,\n  240,\n  'Emily Johnson',\n  'Los Angeles',\n  'PayPal',\n  'Completed'),\n ('ORD0079',\n  '09-03-25',\n  'Running Shoes',\n  'Footwear',\n  60,\n  2,\n  120,\n  'Emily Johnson',\n  'Denver',\n  'Gift Card',\n  'Cancelled'),\n ('ORD0080',\n  '23-02-25',\n  'Running Shoes',\n  'Footwear',\n  60,\n  4,\n  240,\n  'Sophia Miller',\n  'San Francisco',\n  'Debit Card',\n  'Pending'),\n ('ORD0087',\n  '13-03-25',\n  'Running Shoes',\n  'Footwear',\n  60,\n  5,\n  300,\n  'Emma Clark',\n  'Miami',\n  'Debit Card',\n  'Completed'),\n ('ORD0089',\n  '26-03-25',\n  'Running Shoes',\n  'Footwear',\n  60,\n  5,\n  300,\n  'Emma Clark',\n  'Los Angeles',\n  'Credit Card',\n  'Cancelled'),\n ('ORD0100',\n  '13-02-25',\n  'Running Shoes',\n  'Footwear',\n  60,\n  1,\n  60,\n  'Jane Smith',\n  'Houston',\n  'Gift Card',\n  'Cancelled'),\n ('ORD0114',\n  '23-02-25',\n  'Running Shoes',\n  'Footwear',\n  60,\n  1,\n  60,\n  'Emma Clark',\n  'Houston',\n  'Credit Card',\n  'Pending'),\n ('ORD0115',\n  '21-03-25',\n  'Running Shoes',\n  'Footwear',\n  60,\n  3,\n  180,\n  'Olivia Wilson',\n  'Miami',\n  'Amazon Pay',\n  'Completed'),\n ('ORD0147',\n  '05-02-25',\n  'Running Shoes',\n  'Footwear',\n  60,\n  5,\n  300,\n  'Jane Smith',\n  'Dallas',\n  'PayPal',\n  'Pending'),\n ('ORD0149',\n  '20-03-25',\n  'Running Shoes',\n  'Footwear',\n  60,\n  3,\n  180,\n  'Michael Brown',\n  'New York',\n  'Gift Card',\n  'Pending'),\n ('ORD0163',\n  '20-02-25',\n  'Running Shoes',\n  'Footwear',\n  60,\n  2,\n  120,\n  'Chris White',\n  'Houston',\n  'PayPal',\n  'Completed'),\n ('ORD0181',\n  '03-03-25',\n  'Running Shoes',\n  'Footwear',\n  60,\n  2,\n  120,\n  'David Lee',\n  'Los Angeles',\n  'Debit Card',\n  'Cancelled'),\n ('ORD0190',\n  '23-02-25',\n  'Running Shoes',\n  'Footwear',\n  60,\n  1,\n  60,\n  'Sophia Miller',\n  'Houston',\n  'PayPal',\n  'Completed'),\n ('ORD0197',\n  '12-03-25',\n  'Running Shoes',\n  'Footwear',\n  60,\n  2,\n  120,\n  'Michael Brown',\n  'Denver',\n  'Gift Card',\n  'Completed'),\n ('ORD0204',\n  '08-03-25',\n  'Running Shoes',\n  'Footwear',\n  60,\n  5,\n  300,\n  'Jane Smith',\n  'Miami',\n  'Gift Card',\n  'Pending'),\n ('ORD0215',\n  '07-03-25',\n  'Running Shoes',\n  'Footwear',\n  60,\n  1,\n  60,\n  'Emma Clark',\n  'Houston',\n  'PayPal',\n  'Completed'),\n ('ORD0217',\n  '19-03-25',\n  'Running Shoes',\n  'Footwear',\n  60,\n  2,\n  120,\n  'Emma Clark',\n  'Boston',\n  'Gift Card',\n  'Pending'),\n ('ORD0226',\n  '05-03-25',\n  'Running Shoes',\n  'Footwear',\n  60,\n  4,\n  240,\n  'Chris White',\n  'Chicago',\n  'Amazon Pay',\n  'Completed'),\n ('ORD0228',\n  '12-02-25',\n  'Running Shoes',\n  'Footwear',\n  60,\n  1,\n  60,\n  'David Lee',\n  'San Francisco',\n  'Credit Card',\n  'Pending'),\n ('ORD0229',\n  '21-03-25',\n  'Running Shoes',\n  'Footwear',\n  60,\n  3,\n  180,\n  'Emma Clark',\n  'San Francisco',\n  'Credit Card',\n  'Pending'),\n ('ORD0233',\n  '20-02-25',\n  'Running Shoes',\n  'Footwear',\n  60,\n  1,\n  60,\n  'David Lee',\n  'Boston',\n  'PayPal',\n  'Cancelled'),\n ('ORD0243',\n  '05-03-25',\n  'Running Shoes',\n  'Footwear',\n  60,\n  2,\n  120,\n  'Chris White',\n  'Houston',\n  'Amazon Pay',\n  'Completed')]"},"metadata":{}}],"execution_count":16},{"cell_type":"markdown","source":"## Running SQL Queries from the input data","metadata":{}},{"cell_type":"code","source":"# 🛢️ Save uploaded data to SQLite\nuser_conn = sqlite3.connect(\"sample_1.db\")\ndf.columns = [col.strip().replace(\" \", \"_\") for col in df.columns]\ndf.to_sql(\"df\", user_conn, if_exists=\"replace\", index=False)","metadata":{"trusted":true,"execution":{"iopub.status.busy":"2025-04-22T01:44:54.346956Z","iopub.execute_input":"2025-04-22T01:44:54.347301Z","iopub.status.idle":"2025-04-22T01:44:54.397539Z","shell.execute_reply.started":"2025-04-22T01:44:54.347274Z","shell.execute_reply":"2025-04-22T01:44:54.396656Z"}},"outputs":[{"execution_count":17,"output_type":"execute_result","data":{"text/plain":"250"},"metadata":{}}],"execution_count":17},{"cell_type":"code","source":"describe_table(user_conn,\"df\")","metadata":{"trusted":true,"execution":{"iopub.status.busy":"2025-04-22T01:44:54.398519Z","iopub.execute_input":"2025-04-22T01:44:54.398844Z","iopub.status.idle":"2025-04-22T01:44:54.405746Z","shell.execute_reply.started":"2025-04-22T01:44:54.398819Z","shell.execute_reply":"2025-04-22T01:44:54.404653Z"}},"outputs":[{"execution_count":18,"output_type":"execute_result","data":{"text/plain":"[('Order_ID', 'TEXT'),\n ('Date', 'TEXT'),\n ('Product', 'TEXT'),\n ('Category', 'TEXT'),\n ('Price', 'INTEGER'),\n ('Quantity', 'INTEGER'),\n ('Total_Sales', 'INTEGER'),\n ('Customer_Name', 'TEXT'),\n ('Customer_Location', 'TEXT'),\n ('Payment_Method', 'TEXT'),\n ('Status', 'TEXT')]"},"metadata":{}}],"execution_count":18},{"cell_type":"code","source":"\"\"\"Uncomment the line below to execute a query on the user-uploaded dataset.\"\"\"\n# execute_query()","metadata":{"trusted":true,"execution":{"iopub.status.busy":"2025-04-22T01:44:54.406806Z","iopub.execute_input":"2025-04-22T01:44:54.407164Z","iopub.status.idle":"2025-04-22T01:44:54.426734Z","shell.execute_reply.started":"2025-04-22T01:44:54.407138Z","shell.execute_reply":"2025-04-22T01:44:54.425881Z"}},"outputs":[{"execution_count":19,"output_type":"execute_result","data":{"text/plain":"'Uncomment the line below to execute a query on the user-uploaded dataset.'"},"metadata":{}}],"execution_count":19},{"cell_type":"markdown","source":"# Agents","metadata":{}},{"cell_type":"code","source":"# Agents function for both kaggle and user inputed csv:\ndef agent_loop(df, table_name=\"data\"):\n    print(\"🔍 Ask a question about the dataset (or type 'exit'):\")\n\n    # Dynamically build schema from df\n    schema = f\"Table: {table_name}\\nColumns:\\n\"\n    for col in df.columns:\n        schema += f\"- {col}\\n\"\n\n    # Start interaction loop\n    while True:\n        user_input = input(\"\\n🧍 You: \")\n        if user_input.lower() == \"exit\":\n            break\n\n        # Prompt for SQL\n        prompt = f\"\"\"\n        You are a helpful assistant that answers data questions by generating SQL queries.\n        Here is the table schema:\n        {schema}\n        Question: {user_input}\n        Only respond with a valid SQL query.\n        \"\"\"\n        response = client.models.generate_content(\n            model='gemini-2.0-flash',\n            config=short_config,\n            contents=prompt\n        )\n        sql = response.text.strip().replace(\"```sql\", \"\").replace(\"```\", \"\").strip()\n        print(f\"\\n🧾 Cleaned SQL:\\n{sql}\")\n\n        try:\n            result = execute_query(sql)\n            print(\"\\n📊 Query Results:\")\n            for row in result:\n                print(row)\n\n            # Explanation\n            summary_prompt = f\"\"\"\n            Here is the result of the SQL query:\n            {result}\n            Explain this result in plain English for a data analyst.\n            \"\"\"\n            summary = client.models.generate_content(\n                model='gemini-2.0-flash',\n                config=short_config,\n                contents=summary_prompt\n            )\n            print(f\"\\n🗣️ Summary:\\n{summary.text}\")\n        except Exception as e:\n            print(f\"❌ Error: {e}\")\n","metadata":{"trusted":true,"execution":{"iopub.status.busy":"2025-04-22T01:44:54.42771Z","iopub.execute_input":"2025-04-22T01:44:54.428037Z","iopub.status.idle":"2025-04-22T01:44:54.446542Z","shell.execute_reply.started":"2025-04-22T01:44:54.42801Z","shell.execute_reply":"2025-04-22T01:44:54.445534Z"}},"outputs":[],"execution_count":20},{"cell_type":"markdown","source":"## 5. 🤖 Agent Mode: Chat with Your Data W kaggle data and input data","metadata":{}},{"cell_type":"code","source":"agent_loop(data) ","metadata":{"trusted":true,"execution":{"iopub.status.busy":"2025-04-22T01:49:51.505032Z","iopub.execute_input":"2025-04-22T01:49:51.505345Z","iopub.status.idle":"2025-04-22T01:50:15.543892Z","shell.execute_reply.started":"2025-04-22T01:49:51.505323Z","shell.execute_reply":"2025-04-22T01:50:15.543186Z"}},"outputs":[{"name":"stdout","text":"🔍 Ask a question about the dataset (or type 'exit'):\n","output_type":"stream"},{"output_type":"stream","name":"stdin","text":"\n🧍 You:  What is the average order value?\n"},{"name":"stdout","text":"\n🧾 Cleaned SQL:\nSELECT AVG(Total_Sales) AS AverageOrderValue FROM data;\n❌ Error: execute_query() missing 1 required positional argument: 'sql'\n","output_type":"stream"},{"output_type":"stream","name":"stdin","text":"\n🧍 You:  exit\n"}],"execution_count":23},{"cell_type":"code","source":"\"\"\"Uncomment the line below to execute the agent_loop on the user-uploaded dataset.\"\"\"\n# agent_loop(df, table_name=\"df\")  ","metadata":{"trusted":true,"execution":{"iopub.status.busy":"2025-04-22T01:45:01.236862Z","iopub.execute_input":"2025-04-22T01:45:01.237367Z","iopub.status.idle":"2025-04-22T01:45:01.24232Z","shell.execute_reply.started":"2025-04-22T01:45:01.237345Z","shell.execute_reply":"2025-04-22T01:45:01.241474Z"}},"outputs":[{"execution_count":22,"output_type":"execute_result","data":{"text/plain":"'Uncomment the line below to execute the agent_loop on the user-uploaded dataset.'"},"metadata":{}}],"execution_count":22}]}
>>>>>>> 58029c4f75c8debb3aa4e7e0625ec16a6d212e4b
